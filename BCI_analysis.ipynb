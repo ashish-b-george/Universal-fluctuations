{
 "cells": [
  {
   "cell_type": "code",
   "execution_count": 1,
   "id": "bbadd0e2",
   "metadata": {},
   "outputs": [
    {
     "name": "stderr",
     "output_type": "stream",
     "text": [
      "In /Users/ashish/anaconda3/envs/cities/lib/python3.7/site-packages/matplotlib/mpl-data/stylelib/_classic_test.mplstyle: \n",
      "The text.latex.preview rcparam was deprecated in Matplotlib 3.3 and will be removed two minor releases later.\n",
      "In /Users/ashish/anaconda3/envs/cities/lib/python3.7/site-packages/matplotlib/mpl-data/stylelib/_classic_test.mplstyle: \n",
      "The mathtext.fallback_to_cm rcparam was deprecated in Matplotlib 3.3 and will be removed two minor releases later.\n",
      "In /Users/ashish/anaconda3/envs/cities/lib/python3.7/site-packages/matplotlib/mpl-data/stylelib/_classic_test.mplstyle: Support for setting the 'mathtext.fallback_to_cm' rcParam is deprecated since 3.3 and will be removed two minor releases later; use 'mathtext.fallback : 'cm' instead.\n",
      "In /Users/ashish/anaconda3/envs/cities/lib/python3.7/site-packages/matplotlib/mpl-data/stylelib/_classic_test.mplstyle: \n",
      "The validate_bool_maybe_none function was deprecated in Matplotlib 3.3 and will be removed two minor releases later.\n",
      "In /Users/ashish/anaconda3/envs/cities/lib/python3.7/site-packages/matplotlib/mpl-data/stylelib/_classic_test.mplstyle: \n",
      "The savefig.jpeg_quality rcparam was deprecated in Matplotlib 3.3 and will be removed two minor releases later.\n",
      "In /Users/ashish/anaconda3/envs/cities/lib/python3.7/site-packages/matplotlib/mpl-data/stylelib/_classic_test.mplstyle: \n",
      "The keymap.all_axes rcparam was deprecated in Matplotlib 3.3 and will be removed two minor releases later.\n",
      "In /Users/ashish/anaconda3/envs/cities/lib/python3.7/site-packages/matplotlib/mpl-data/stylelib/_classic_test.mplstyle: \n",
      "The animation.avconv_path rcparam was deprecated in Matplotlib 3.3 and will be removed two minor releases later.\n",
      "In /Users/ashish/anaconda3/envs/cities/lib/python3.7/site-packages/matplotlib/mpl-data/stylelib/_classic_test.mplstyle: \n",
      "The animation.avconv_args rcparam was deprecated in Matplotlib 3.3 and will be removed two minor releases later.\n"
     ]
    }
   ],
   "source": [
    "import numpy as np\n",
    "import pandas as pd\n",
    "import matplotlib as mpl\n",
    "import matplotlib.pyplot as plt\n",
    "import seaborn as sns\n",
    "import os\n",
    "from sys import exit\n",
    "import pandas as pd\n",
    "import glob\n",
    "import pickle\n",
    "from textwrap import wrap\n",
    "import time\n",
    "import math\n",
    "import scipy\n",
    "import itertools\n",
    "from scipy import signal## because scipy doesn't always load its submodules for some reason\n",
    "from scipy import stats\n",
    "from sklearn.metrics.cluster import adjusted_rand_score\n",
    "from copy import deepcopy\n",
    "from sklearn.preprocessing import StandardScaler\n",
    "from sklearn.decomposition import PCA\n",
    "from sklearn import linear_model\n",
    "from sklearn.metrics import mean_squared_error, r2_score, pairwise_distances\n",
    "from scipy.optimize import fsolve\n",
    "import scipy.optimize\n",
    "from scipy.stats import levy_stable\n",
    "import sys\n",
    "sys.path.append('/Users/ashish/Dropbox/research/James-research/city establishment data/')\n",
    "\n",
    "import powerlaw\n",
    "import shared_analysis_functions as shared_func\n",
    "import importlib\n",
    "importlib.reload(shared_func)\n",
    "from sklearn.metrics import pairwise_distances\n",
    "from scipy.spatial import distance as scipy_spatial_distance\n",
    "\n",
    "import warnings\n",
    "# fit_params_path='/Users/ashish/Box/research/James/BLS data/processed_BLS_data/fit_parameters/'\n",
    "# \n",
    "fontSize=12\n",
    "fontSizeSmall=10\n",
    "labelSize=8\n",
    "sns.set(rc= {'figure.facecolor':'white'}) #'axes.facecolor':'cornflowerblue',\n",
    "\n",
    "def create_color_list(scheme_name='sns_tab10',num_colors=6): \n",
    "    #https://matplotlib.org/3.1.0/gallery/color/named_colors.html\n",
    "    #https://seaborn.pydata.org/tutorial/color_palettes.html\n",
    "    if scheme_name.lower()=='tableau':\n",
    "        color_list=list(mcolors.TABLEAU_COLORS.values())## only had 10 colors\n",
    "    elif scheme_name.lower()=='css':\n",
    "        color_list=list(mcolors.CSS4_COLORS.values())\n",
    "    elif scheme_name.lower()=='base':\n",
    "        color_list=list(mcolors.BASE_COLORS.values())\n",
    "    elif scheme_name.lower()=='sns_tab10':\n",
    "        color_list=list(sns.color_palette(palette='tab10',n_colors=num_colors))\n",
    "    elif scheme_name.lower()=='sns_deep':\n",
    "        color_list=list(sns.color_palette(palette='deep',n_colors=num_colors))\n",
    "    elif scheme_name.lower()=='sns_muted':\n",
    "        color_list=list(sns.color_palette(palette='muted',n_colors=num_colors))\n",
    "    elif scheme_name.lower()=='sns_colorblind':\n",
    "        color_list=list(sns.color_palette(palette='colorblind',n_colors=num_colors))\n",
    "    elif scheme_name.lower()=='sns_spectral':\n",
    "        color_list=list(sns.color_palette(palette='Spectral',n_colors=num_colors))\n",
    "    else:\n",
    "        print ('scheme not implemented')\n",
    "    if 'sns' not in scheme_name.lower():\n",
    "        color_list=[color for color in color_list if sum(mcolors.to_rgb(color))<2.5] ## remove white\n",
    "        mcolors.to_rgb(color_list[0])\n",
    "    return  color_list\n",
    "color_list_def=create_color_list()\n",
    "\n",
    "\n",
    "def compute_pairwise_distances(X, distance_metric):\n",
    "    dist_bw_pwise=False ## compute distance again assuming pairwise distances are features. \n",
    "    if 'dist_bw_pwise_' in distance_metric:\n",
    "        dist_bw_pwise=True\n",
    "        distance_metric=distance_metric.replace('dist_bw_pwise_','')\n",
    "    \n",
    "    if distance_metric is 'jensenshannon':\n",
    "        temp_Distances = scipy_spatial_distance.pdist(\n",
    "            X, metric=distance_metric)\n",
    "        Distances = scipy_spatial_distance.squareform(temp_Distances)\n",
    "    else:\n",
    "        Distances = pairwise_distances(X, metric=distance_metric)\n",
    "        \n",
    "    if dist_bw_pwise:\n",
    "        Distance2=compute_pairwise_distances(Distances, distance_metric)\n",
    "        return Distance2\n",
    "    else:\n",
    "        return Distances\n",
    "    \n",
    "\n",
    "\n",
    "def get_BCI_clust_logG(df_counts,clust_id ):\n",
    "    df_clusti=df_counts[df_counts['height_cluster']==clust_id]\n",
    "    BCI_popn=df_clusti[BCI_year_list].values\n",
    "    BCI_fold_change=BCI_popn[:,1:]/BCI_popn[:,:-1]\n",
    "    BCI_fold_change=np.ravel(BCI_fold_change[np.nonzero(BCI_popn[:,:-1])])\n",
    "    BCI_logG_clusti=np.log(BCI_fold_change[BCI_fold_change>0])\n",
    "    \n",
    "    return BCI_logG_clusti\n",
    "\n",
    "\n",
    "\n",
    "'''\n",
    "figure size and font settings\n",
    "'''   \n",
    "## figure settings\n",
    "SMALL_SIZE = 10\n",
    "MEDIUM_SIZE = 12\n",
    "BIGGER_SIZE = 14\n",
    "\n",
    "# plt.rc('font', size=SMALL_SIZE, family='sans-serif', serif='Arial')          # controls default text sizes\n",
    "plt.rc('axes', titlesize=BIGGER_SIZE, titleweight='bold')     # fontsize of the axes title\n",
    "plt.rc('axes', labelsize=MEDIUM_SIZE, labelweight='bold')    # fontsize of the x and y labels\n",
    "plt.rc('xtick', labelsize=SMALL_SIZE)    # fontsize of the tick labels\n",
    "plt.rc('ytick', labelsize=SMALL_SIZE)    # fontsize of the tick labels\n",
    "plt.rc('legend', fontsize=SMALL_SIZE)    # legend fontsize\n",
    "plt.rc('figure', titlesize=BIGGER_SIZE)  # fontsize of the figure title\n",
    "plt.rc('text')\n",
    "\n",
    "from matplotlib.ticker import MaxNLocator\n",
    "my_locator = MaxNLocator(6)\n",
    "\n",
    "# def figure_size_setting(WIDTH):\n",
    "#     #WIDTH = 700.0  # the number latex spits out\n",
    "#     FACTOR = 0.8  # the fraction of the width you'd like the figure to occupy\n",
    "#     fig_width_pt  = WIDTH * FACTOR\n",
    "#     inches_per_pt = 1.0 / 72.27\n",
    "#     golden_ratio  = (np.sqrt(5) - 1.0) / 2.0  # because it looks good\n",
    "#     fig_width_in  = fig_width_pt * inches_per_pt  # figure width in inches\n",
    "#     fig_height_in = fig_width_in * golden_ratio   # figure height in inches\n",
    "#     fig_dims    = [fig_width_in, fig_height_in] # fig dims as a list\n",
    "#     return fig_dims\n",
    "\n",
    "# time_stamp_arr=[]\n",
    "# time_arr=[]\n",
    "# t=0\n",
    "# for y in np.arange(1990,2022):\n",
    "#     for q in np.arange(1,5):\n",
    "#         for m in np.arange(1,4):\n",
    "#             time_stamp_arr.append('Y'+str(y)[-2:]+'-Q'+str(q)+'-M'+str(m))\n",
    "#             time_arr.append(t)\n",
    "#             t+=1\n",
    "# time_stamp_arr=np.array(time_stamp_arr)\n",
    "# time_arr=np.array(time_arr)\n",
    "\n",
    "BCI_data_path='/Users/ashish/Box/research/James/BCI data/bci/'\n",
    "BCI_processed_path='/Users/ashish/Box/research/James/BCI data/processed_BCI_data/'\n",
    "fit_params_path='/Users/ashish/Box/research/James/BCI data/processed_BCI_data/fit_parameters/'"
   ]
  },
  {
   "cell_type": "markdown",
   "id": "41388189",
   "metadata": {},
   "source": [
    "# read and wrangle raw data"
   ]
  },
  {
   "cell_type": "code",
   "execution_count": 5,
   "id": "f56a17cb",
   "metadata": {},
   "outputs": [],
   "source": [
    "\n",
    "##cannot use 1985 census due to different flags and conditions\n",
    "# ####pd.read_csv(BCI_data_path+'bci1.txt',encoding='ISO-8859–1',sep='\\t')## 1985 census\n",
    "df2=pd.read_csv(BCI_data_path+'bci2.txt',encoding='ISO-8859–1',sep='\\t') ##1990\n",
    "df3=pd.read_csv(BCI_data_path+'bci3.txt',encoding='ISO-8859–1',sep='\\t')#95\n",
    "df4=pd.read_csv(BCI_data_path+'bci4.txt',encoding='ISO-8859–1',sep='\\t')#2000\n",
    "df5=pd.read_csv(BCI_data_path+'bci5.txt',encoding='ISO-8859–1',sep='\\t')#2005\n",
    "\n",
    "\n",
    "\n"
   ]
  },
  {
   "cell_type": "code",
   "execution_count": 8,
   "id": "3abb9526",
   "metadata": {},
   "outputs": [
    {
     "data": {
      "text/html": [
       "<div>\n",
       "<style scoped>\n",
       "    .dataframe tbody tr th:only-of-type {\n",
       "        vertical-align: middle;\n",
       "    }\n",
       "\n",
       "    .dataframe tbody tr th {\n",
       "        vertical-align: top;\n",
       "    }\n",
       "\n",
       "    .dataframe thead th {\n",
       "        text-align: right;\n",
       "    }\n",
       "</style>\n",
       "<table border=\"1\" class=\"dataframe\">\n",
       "  <thead>\n",
       "    <tr style=\"text-align: right;\">\n",
       "      <th></th>\n",
       "      <th>tag</th>\n",
       "      <th>sp</th>\n",
       "      <th>gx</th>\n",
       "      <th>gy</th>\n",
       "      <th>dbh</th>\n",
       "      <th>pom</th>\n",
       "      <th>date</th>\n",
       "      <th>codes</th>\n",
       "      <th>status</th>\n",
       "    </tr>\n",
       "  </thead>\n",
       "  <tbody>\n",
       "    <tr>\n",
       "      <th>0</th>\n",
       "      <td>105951</td>\n",
       "      <td>ACACME</td>\n",
       "      <td>610.0</td>\n",
       "      <td>104.7</td>\n",
       "      <td>116.0</td>\n",
       "      <td>1</td>\n",
       "      <td>5256.0</td>\n",
       "      <td>M</td>\n",
       "      <td>A</td>\n",
       "    </tr>\n",
       "    <tr>\n",
       "      <th>1</th>\n",
       "      <td>132160</td>\n",
       "      <td>ACACME</td>\n",
       "      <td>534.8</td>\n",
       "      <td>241.3</td>\n",
       "      <td>91.0</td>\n",
       "      <td>1</td>\n",
       "      <td>5254.0</td>\n",
       "      <td>*</td>\n",
       "      <td>A</td>\n",
       "    </tr>\n",
       "    <tr>\n",
       "      <th>2</th>\n",
       "      <td>132234</td>\n",
       "      <td>ACACME</td>\n",
       "      <td>539.4</td>\n",
       "      <td>242.3</td>\n",
       "      <td>122.0</td>\n",
       "      <td>1</td>\n",
       "      <td>5254.0</td>\n",
       "      <td>M</td>\n",
       "      <td>A</td>\n",
       "    </tr>\n",
       "    <tr>\n",
       "      <th>3</th>\n",
       "      <td>132235</td>\n",
       "      <td>ACACME</td>\n",
       "      <td>538.8</td>\n",
       "      <td>242.5</td>\n",
       "      <td>141.0</td>\n",
       "      <td>3</td>\n",
       "      <td>5254.0</td>\n",
       "      <td>*</td>\n",
       "      <td>A</td>\n",
       "    </tr>\n",
       "    <tr>\n",
       "      <th>4</th>\n",
       "      <td>191542</td>\n",
       "      <td>ACACME</td>\n",
       "      <td>282.7</td>\n",
       "      <td>177.5</td>\n",
       "      <td>52.0</td>\n",
       "      <td>1</td>\n",
       "      <td>5202.0</td>\n",
       "      <td>*</td>\n",
       "      <td>A</td>\n",
       "    </tr>\n",
       "    <tr>\n",
       "      <th>5</th>\n",
       "      <td>269064</td>\n",
       "      <td>ACACME</td>\n",
       "      <td>84.2</td>\n",
       "      <td>74.8</td>\n",
       "      <td>21.0</td>\n",
       "      <td>1</td>\n",
       "      <td>5122.0</td>\n",
       "      <td>*</td>\n",
       "      <td>A</td>\n",
       "    </tr>\n",
       "    <tr>\n",
       "      <th>6</th>\n",
       "      <td>272540</td>\n",
       "      <td>ACACME</td>\n",
       "      <td>149.9</td>\n",
       "      <td>389.8</td>\n",
       "      <td>19.0</td>\n",
       "      <td>1</td>\n",
       "      <td>5186.0</td>\n",
       "      <td>*</td>\n",
       "      <td>A</td>\n",
       "    </tr>\n",
       "    <tr>\n",
       "      <th>7</th>\n",
       "      <td>422989</td>\n",
       "      <td>ACACME</td>\n",
       "      <td>450.8</td>\n",
       "      <td>216.8</td>\n",
       "      <td>14.0</td>\n",
       "      <td>1</td>\n",
       "      <td>5275.0</td>\n",
       "      <td>*</td>\n",
       "      <td>A</td>\n",
       "    </tr>\n",
       "    <tr>\n",
       "      <th>8</th>\n",
       "      <td>430127</td>\n",
       "      <td>ACACME</td>\n",
       "      <td>606.4</td>\n",
       "      <td>105.6</td>\n",
       "      <td>24.0</td>\n",
       "      <td>1</td>\n",
       "      <td>5256.0</td>\n",
       "      <td>*</td>\n",
       "      <td>A</td>\n",
       "    </tr>\n",
       "    <tr>\n",
       "      <th>9</th>\n",
       "      <td>430131</td>\n",
       "      <td>ACACME</td>\n",
       "      <td>606.1</td>\n",
       "      <td>103.1</td>\n",
       "      <td>15.0</td>\n",
       "      <td>1</td>\n",
       "      <td>5256.0</td>\n",
       "      <td>*</td>\n",
       "      <td>A</td>\n",
       "    </tr>\n",
       "    <tr>\n",
       "      <th>10</th>\n",
       "      <td>430132</td>\n",
       "      <td>ACACME</td>\n",
       "      <td>606.3</td>\n",
       "      <td>102.4</td>\n",
       "      <td>34.0</td>\n",
       "      <td>1</td>\n",
       "      <td>5256.0</td>\n",
       "      <td>*</td>\n",
       "      <td>A</td>\n",
       "    </tr>\n",
       "    <tr>\n",
       "      <th>11</th>\n",
       "      <td>530056</td>\n",
       "      <td>ACACME</td>\n",
       "      <td>612.6</td>\n",
       "      <td>107.6</td>\n",
       "      <td>18.0</td>\n",
       "      <td>1</td>\n",
       "      <td>5256.0</td>\n",
       "      <td>*</td>\n",
       "      <td>A</td>\n",
       "    </tr>\n",
       "    <tr>\n",
       "      <th>12</th>\n",
       "      <td>707243</td>\n",
       "      <td>ACACME</td>\n",
       "      <td>141.4</td>\n",
       "      <td>190.1</td>\n",
       "      <td>NaN</td>\n",
       "      <td>0</td>\n",
       "      <td>5137.0</td>\n",
       "      <td>*</td>\n",
       "      <td>P</td>\n",
       "    </tr>\n",
       "    <tr>\n",
       "      <th>13</th>\n",
       "      <td>718100</td>\n",
       "      <td>ACACME</td>\n",
       "      <td>362.1</td>\n",
       "      <td>70.8</td>\n",
       "      <td>NaN</td>\n",
       "      <td>0</td>\n",
       "      <td>5193.0</td>\n",
       "      <td>*</td>\n",
       "      <td>P</td>\n",
       "    </tr>\n",
       "    <tr>\n",
       "      <th>14</th>\n",
       "      <td>727274</td>\n",
       "      <td>ACACME</td>\n",
       "      <td>544.6</td>\n",
       "      <td>326.4</td>\n",
       "      <td>NaN</td>\n",
       "      <td>0</td>\n",
       "      <td>5270.0</td>\n",
       "      <td>*</td>\n",
       "      <td>P</td>\n",
       "    </tr>\n",
       "    <tr>\n",
       "      <th>15</th>\n",
       "      <td>730053</td>\n",
       "      <td>ACACME</td>\n",
       "      <td>612.2</td>\n",
       "      <td>100.7</td>\n",
       "      <td>NaN</td>\n",
       "      <td>0</td>\n",
       "      <td>5256.0</td>\n",
       "      <td>*</td>\n",
       "      <td>P</td>\n",
       "    </tr>\n",
       "    <tr>\n",
       "      <th>16</th>\n",
       "      <td>730054</td>\n",
       "      <td>ACACME</td>\n",
       "      <td>612.0</td>\n",
       "      <td>101.4</td>\n",
       "      <td>NaN</td>\n",
       "      <td>0</td>\n",
       "      <td>5256.0</td>\n",
       "      <td>*</td>\n",
       "      <td>P</td>\n",
       "    </tr>\n",
       "    <tr>\n",
       "      <th>17</th>\n",
       "      <td>730055</td>\n",
       "      <td>ACACME</td>\n",
       "      <td>612.0</td>\n",
       "      <td>102.6</td>\n",
       "      <td>NaN</td>\n",
       "      <td>0</td>\n",
       "      <td>5256.0</td>\n",
       "      <td>*</td>\n",
       "      <td>P</td>\n",
       "    </tr>\n",
       "    <tr>\n",
       "      <th>18</th>\n",
       "      <td>730056</td>\n",
       "      <td>ACACME</td>\n",
       "      <td>614.5</td>\n",
       "      <td>103.0</td>\n",
       "      <td>NaN</td>\n",
       "      <td>0</td>\n",
       "      <td>5256.0</td>\n",
       "      <td>*</td>\n",
       "      <td>P</td>\n",
       "    </tr>\n",
       "    <tr>\n",
       "      <th>19</th>\n",
       "      <td>730057</td>\n",
       "      <td>ACACME</td>\n",
       "      <td>614.5</td>\n",
       "      <td>101.7</td>\n",
       "      <td>NaN</td>\n",
       "      <td>0</td>\n",
       "      <td>5256.0</td>\n",
       "      <td>*</td>\n",
       "      <td>P</td>\n",
       "    </tr>\n",
       "  </tbody>\n",
       "</table>\n",
       "</div>"
      ],
      "text/plain": [
       "       tag      sp     gx     gy    dbh  pom    date codes status\n",
       "0   105951  ACACME  610.0  104.7  116.0    1  5256.0     M      A\n",
       "1   132160  ACACME  534.8  241.3   91.0    1  5254.0     *      A\n",
       "2   132234  ACACME  539.4  242.3  122.0    1  5254.0     M      A\n",
       "3   132235  ACACME  538.8  242.5  141.0    3  5254.0     *      A\n",
       "4   191542  ACACME  282.7  177.5   52.0    1  5202.0     *      A\n",
       "5   269064  ACACME   84.2   74.8   21.0    1  5122.0     *      A\n",
       "6   272540  ACACME  149.9  389.8   19.0    1  5186.0     *      A\n",
       "7   422989  ACACME  450.8  216.8   14.0    1  5275.0     *      A\n",
       "8   430127  ACACME  606.4  105.6   24.0    1  5256.0     *      A\n",
       "9   430131  ACACME  606.1  103.1   15.0    1  5256.0     *      A\n",
       "10  430132  ACACME  606.3  102.4   34.0    1  5256.0     *      A\n",
       "11  530056  ACACME  612.6  107.6   18.0    1  5256.0     *      A\n",
       "12  707243  ACACME  141.4  190.1    NaN    0  5137.0     *      P\n",
       "13  718100  ACACME  362.1   70.8    NaN    0  5193.0     *      P\n",
       "14  727274  ACACME  544.6  326.4    NaN    0  5270.0     *      P\n",
       "15  730053  ACACME  612.2  100.7    NaN    0  5256.0     *      P\n",
       "16  730054  ACACME  612.0  101.4    NaN    0  5256.0     *      P\n",
       "17  730055  ACACME  612.0  102.6    NaN    0  5256.0     *      P\n",
       "18  730056  ACACME  614.5  103.0    NaN    0  5256.0     *      P\n",
       "19  730057  ACACME  614.5  101.7    NaN    0  5256.0     *      P"
      ]
     },
     "execution_count": 8,
     "metadata": {},
     "output_type": "execute_result"
    }
   ],
   "source": [
    "df3.head(20)"
   ]
  },
  {
   "cell_type": "markdown",
   "id": "bddbe7bb",
   "metadata": {
    "heading_collapsed": true
   },
   "source": [
    "## make data frame with species counts in each year"
   ]
  },
  {
   "cell_type": "code",
   "execution_count": 60,
   "id": "9ca31588",
   "metadata": {
    "hidden": true
   },
   "outputs": [],
   "source": [
    "species_list=np.sort(list(set(df2['sp'])))\n",
    "## create empty target dataframe which we will fill with counts\n",
    "df_counts={'sp':species_list,'Y1990':np.zeros(len(species_list)),\n",
    "           'Y1995':np.zeros(len(species_list)),\n",
    "           'Y2000':np.zeros(len(species_list)),\n",
    "           'Y2005':np.zeros(len(species_list))}\n",
    "df_counts = pd.DataFrame(df_counts )\n",
    "year_list=['Y1990','Y1995','Y2000','Y2005']\n",
    "for df,year in zip([df2,df3,df4,df5],year_list):\n",
    "    for i,sp in enumerate(species_list):\n",
    "        df_sub=df[df['sp']==sp]\n",
    "        df_sub=df_sub[df_sub['status']=='A']\n",
    "        df_sub=df_sub[df_sub['dbh']>=10]\n",
    "        df_counts.loc[i, year]=len(df_sub.index)\n",
    "df_counts.to_csv(BCI_processed_path+'df_counts.csv')        \n",
    "        \n",
    "\n",
    "\n",
    "\n",
    "\n"
   ]
  },
  {
   "cell_type": "markdown",
   "id": "17bcacba",
   "metadata": {},
   "source": [
    "## read and wrangle rafael cluster labels"
   ]
  },
  {
   "cell_type": "code",
   "execution_count": null,
   "id": "48d627ba",
   "metadata": {},
   "outputs": [],
   "source": []
  },
  {
   "cell_type": "code",
   "execution_count": 2,
   "id": "32791a6f",
   "metadata": {
    "scrolled": true
   },
   "outputs": [
    {
     "data": {
      "text/html": [
       "<div>\n",
       "<style scoped>\n",
       "    .dataframe tbody tr th:only-of-type {\n",
       "        vertical-align: middle;\n",
       "    }\n",
       "\n",
       "    .dataframe tbody tr th {\n",
       "        vertical-align: top;\n",
       "    }\n",
       "\n",
       "    .dataframe thead th {\n",
       "        text-align: right;\n",
       "    }\n",
       "</style>\n",
       "<table border=\"1\" class=\"dataframe\">\n",
       "  <thead>\n",
       "    <tr style=\"text-align: right;\">\n",
       "      <th></th>\n",
       "      <th>sp</th>\n",
       "      <th>abun</th>\n",
       "      <th>genus</th>\n",
       "      <th>species</th>\n",
       "      <th>maxheight</th>\n",
       "      <th>cluster</th>\n",
       "    </tr>\n",
       "  </thead>\n",
       "  <tbody>\n",
       "    <tr>\n",
       "      <th>0</th>\n",
       "      <td>acacme</td>\n",
       "      <td>20</td>\n",
       "      <td>Acacia</td>\n",
       "      <td>melanoceras</td>\n",
       "      <td>10.608000</td>\n",
       "      <td>2</td>\n",
       "    </tr>\n",
       "    <tr>\n",
       "      <th>1</th>\n",
       "      <td>acaldi</td>\n",
       "      <td>263</td>\n",
       "      <td>Acalypha</td>\n",
       "      <td>diversifolia</td>\n",
       "      <td>6.260000</td>\n",
       "      <td>1</td>\n",
       "    </tr>\n",
       "    <tr>\n",
       "      <th>2</th>\n",
       "      <td>acalma</td>\n",
       "      <td>45</td>\n",
       "      <td>Acalypha</td>\n",
       "      <td>macrostachya</td>\n",
       "      <td>7.080000</td>\n",
       "      <td>1</td>\n",
       "    </tr>\n",
       "    <tr>\n",
       "      <th>3</th>\n",
       "      <td>ade1tr</td>\n",
       "      <td>82</td>\n",
       "      <td>Adelia</td>\n",
       "      <td>triloba</td>\n",
       "      <td>13.167500</td>\n",
       "      <td>2</td>\n",
       "    </tr>\n",
       "    <tr>\n",
       "      <th>4</th>\n",
       "      <td>aegipa</td>\n",
       "      <td>21</td>\n",
       "      <td>Aegiphila</td>\n",
       "      <td>panamensis</td>\n",
       "      <td>11.942916</td>\n",
       "      <td>2</td>\n",
       "    </tr>\n",
       "  </tbody>\n",
       "</table>\n",
       "</div>"
      ],
      "text/plain": [
       "       sp  abun      genus       species  maxheight  cluster\n",
       "0  acacme    20     Acacia   melanoceras  10.608000        2\n",
       "1  acaldi   263   Acalypha  diversifolia   6.260000        1\n",
       "2  acalma    45   Acalypha  macrostachya   7.080000        1\n",
       "3  ade1tr    82     Adelia       triloba  13.167500        2\n",
       "4  aegipa    21  Aegiphila    panamensis  11.942916        2"
      ]
     },
     "execution_count": 2,
     "metadata": {},
     "output_type": "execute_result"
    }
   ],
   "source": [
    "cluster_file_name='/Users/ashish/Box/research/James/BCI data/rafael clustering/trait clustering 2020 paper/BCI_heightclusters.csv'\n",
    "df_clust=pd.read_csv(cluster_file_name,encoding='ISO-8859–1')\n",
    "df_clust.head()"
   ]
  },
  {
   "cell_type": "code",
   "execution_count": null,
   "id": "662f76da",
   "metadata": {},
   "outputs": [],
   "source": []
  },
  {
   "cell_type": "code",
   "execution_count": 16,
   "id": "f1b46730",
   "metadata": {},
   "outputs": [
    {
     "name": "stdout",
     "output_type": "stream",
     "text": [
      "285\n",
      "87 75 60 63\n"
     ]
    }
   ],
   "source": [
    "print (len(df_clust))\n",
    "print (len(df_clust[df_clust['cluster']==1]),len(df_clust[df_clust['cluster']==2]),\n",
    "len(df_clust[df_clust['cluster']==3]),len(df_clust[df_clust['cluster']==4]) )"
   ]
  },
  {
   "cell_type": "code",
   "execution_count": 19,
   "id": "c65ff739",
   "metadata": {},
   "outputs": [],
   "source": [
    "df_counts = pd.read_csv(\n",
    "    BCI_processed_path+'df_counts.csv', index_col=0)\n",
    "\n",
    "df_counts_with_clust=deepcopy(df_counts)\n",
    "\n",
    "df_counts_with_clust['height_cluster']=-1*np.ones(len(df_counts_with_clust)).astype(int)\n",
    "df_counts_with_clust['genus']=['x' for i in range(len(df_counts_with_clust) )]\n",
    "df_counts_with_clust['species']=['x' for i in range(len(df_counts_with_clust) )]\n",
    "\n",
    "\n",
    "for i in range(len(df_counts_with_clust['sp'])):\n",
    "    \n",
    "    if np.any( df_clust['sp']== df_counts_with_clust['sp'][i].lower()):\n",
    "        clust_id=df_clust[df_clust['sp']== df_counts_with_clust['sp'][i].lower()]['cluster']\n",
    "        df_counts_with_clust['height_cluster'].at[i]=clust_id   \n",
    "        genus=clust_id=df_clust[df_clust['sp']== df_counts_with_clust['sp'][i].lower()]['genus'].values[0]\n",
    "        df_counts_with_clust['genus'].at[i]=genus\n",
    "        species=clust_id=df_clust[df_clust['sp']== df_counts_with_clust['sp'][i].lower()]['species'].values[0]\n",
    "        df_counts_with_clust['species'].at[i]=species\n",
    "        \n",
    "#     else:\n",
    "#         print (df_counts_with_clust.loc[i]) ## few low abundance species not clustered.\n",
    "\n",
    "\n",
    "df_counts_with_clust.to_csv(BCI_processed_path+'df_counts_with_clust.csv')        \n"
   ]
  },
  {
   "cell_type": "code",
   "execution_count": 16,
   "id": "ab18597d",
   "metadata": {},
   "outputs": [
    {
     "data": {
      "text/plain": [
       "'Zuelania'"
      ]
     },
     "execution_count": 16,
     "metadata": {},
     "output_type": "execute_result"
    }
   ],
   "source": [
    "df_clust[df_clust['sp']== df_counts_with_clust['sp'][i].lower()]['genus'].values[0]"
   ]
  },
  {
   "cell_type": "code",
   "execution_count": 18,
   "id": "d005c2fe",
   "metadata": {},
   "outputs": [
    {
     "data": {
      "text/html": [
       "<div>\n",
       "<style scoped>\n",
       "    .dataframe tbody tr th:only-of-type {\n",
       "        vertical-align: middle;\n",
       "    }\n",
       "\n",
       "    .dataframe tbody tr th {\n",
       "        vertical-align: top;\n",
       "    }\n",
       "\n",
       "    .dataframe thead th {\n",
       "        text-align: right;\n",
       "    }\n",
       "</style>\n",
       "<table border=\"1\" class=\"dataframe\">\n",
       "  <thead>\n",
       "    <tr style=\"text-align: right;\">\n",
       "      <th></th>\n",
       "      <th>sp</th>\n",
       "      <th>Y1990</th>\n",
       "      <th>Y1995</th>\n",
       "      <th>Y2000</th>\n",
       "      <th>Y2005</th>\n",
       "      <th>height_cluster</th>\n",
       "      <th>genus</th>\n",
       "      <th>species</th>\n",
       "    </tr>\n",
       "  </thead>\n",
       "  <tbody>\n",
       "    <tr>\n",
       "      <th>0</th>\n",
       "      <td>ACACME</td>\n",
       "      <td>11.0</td>\n",
       "      <td>12.0</td>\n",
       "      <td>10.0</td>\n",
       "      <td>22.0</td>\n",
       "      <td>2</td>\n",
       "      <td>Acacia</td>\n",
       "      <td>melanoceras</td>\n",
       "    </tr>\n",
       "    <tr>\n",
       "      <th>1</th>\n",
       "      <td>ACALDI</td>\n",
       "      <td>819.0</td>\n",
       "      <td>526.0</td>\n",
       "      <td>490.0</td>\n",
       "      <td>746.0</td>\n",
       "      <td>1</td>\n",
       "      <td>Acalypha</td>\n",
       "      <td>diversifolia</td>\n",
       "    </tr>\n",
       "    <tr>\n",
       "      <th>2</th>\n",
       "      <td>ACALMA</td>\n",
       "      <td>44.0</td>\n",
       "      <td>42.0</td>\n",
       "      <td>43.0</td>\n",
       "      <td>52.0</td>\n",
       "      <td>1</td>\n",
       "      <td>Acalypha</td>\n",
       "      <td>macrostachya</td>\n",
       "    </tr>\n",
       "    <tr>\n",
       "      <th>3</th>\n",
       "      <td>ADE1TR</td>\n",
       "      <td>280.0</td>\n",
       "      <td>219.0</td>\n",
       "      <td>163.0</td>\n",
       "      <td>142.0</td>\n",
       "      <td>2</td>\n",
       "      <td>Adelia</td>\n",
       "      <td>triloba</td>\n",
       "    </tr>\n",
       "    <tr>\n",
       "      <th>4</th>\n",
       "      <td>AEGIPA</td>\n",
       "      <td>92.0</td>\n",
       "      <td>77.0</td>\n",
       "      <td>62.0</td>\n",
       "      <td>44.0</td>\n",
       "      <td>2</td>\n",
       "      <td>Aegiphila</td>\n",
       "      <td>panamensis</td>\n",
       "    </tr>\n",
       "  </tbody>\n",
       "</table>\n",
       "</div>"
      ],
      "text/plain": [
       "       sp  Y1990  Y1995  Y2000  Y2005  height_cluster      genus       species\n",
       "0  ACACME   11.0   12.0   10.0   22.0               2     Acacia   melanoceras\n",
       "1  ACALDI  819.0  526.0  490.0  746.0               1   Acalypha  diversifolia\n",
       "2  ACALMA   44.0   42.0   43.0   52.0               1   Acalypha  macrostachya\n",
       "3  ADE1TR  280.0  219.0  163.0  142.0               2     Adelia       triloba\n",
       "4  AEGIPA   92.0   77.0   62.0   44.0               2  Aegiphila    panamensis"
      ]
     },
     "execution_count": 18,
     "metadata": {},
     "output_type": "execute_result"
    }
   ],
   "source": [
    "df_counts_with_clust.head()"
   ]
  },
  {
   "cell_type": "markdown",
   "id": "db323640",
   "metadata": {},
   "source": [
    "# read and get abundance, log G"
   ]
  },
  {
   "cell_type": "code",
   "execution_count": 3,
   "id": "1d50eb87",
   "metadata": {},
   "outputs": [
    {
     "name": "stderr",
     "output_type": "stream",
     "text": [
      "/Users/ashish/anaconda3/envs/cities/lib/python3.7/site-packages/ipykernel_launcher.py:8: RuntimeWarning: divide by zero encountered in true_divide\n",
      "  \n",
      "/Users/ashish/anaconda3/envs/cities/lib/python3.7/site-packages/ipykernel_launcher.py:8: RuntimeWarning: invalid value encountered in true_divide\n",
      "  \n"
     ]
    }
   ],
   "source": [
    "BCI_year_list=year_list=['Y1990','Y1995','Y2000','Y2005']\n",
    "\n",
    "# df_counts = pd.read_csv(\n",
    "#     BCI_processed_path+'df_counts.csv', index_col=0)\n",
    "df_counts = pd.read_csv(\n",
    "    BCI_processed_path+'df_counts_with_clust.csv', index_col=0)\n",
    "popn=df_counts[year_list].values\n",
    "fold_change=popn[:,1:]/popn[:,:-1]\n",
    "fold_change=np.ravel(fold_change[np.nonzero(popn[:,:-1])])\n",
    "logG=np.log(fold_change[fold_change>0])\n",
    "n_BCI_clusts=4"
   ]
  },
  {
   "cell_type": "code",
   "execution_count": 4,
   "id": "b98dbc68",
   "metadata": {},
   "outputs": [
    {
     "data": {
      "text/html": [
       "<div>\n",
       "<style scoped>\n",
       "    .dataframe tbody tr th:only-of-type {\n",
       "        vertical-align: middle;\n",
       "    }\n",
       "\n",
       "    .dataframe tbody tr th {\n",
       "        vertical-align: top;\n",
       "    }\n",
       "\n",
       "    .dataframe thead th {\n",
       "        text-align: right;\n",
       "    }\n",
       "</style>\n",
       "<table border=\"1\" class=\"dataframe\">\n",
       "  <thead>\n",
       "    <tr style=\"text-align: right;\">\n",
       "      <th></th>\n",
       "      <th>sp</th>\n",
       "      <th>Y1990</th>\n",
       "      <th>Y1995</th>\n",
       "      <th>Y2000</th>\n",
       "      <th>Y2005</th>\n",
       "      <th>height_cluster</th>\n",
       "      <th>genus</th>\n",
       "      <th>species</th>\n",
       "    </tr>\n",
       "  </thead>\n",
       "  <tbody>\n",
       "    <tr>\n",
       "      <th>0</th>\n",
       "      <td>ACACME</td>\n",
       "      <td>11.0</td>\n",
       "      <td>12.0</td>\n",
       "      <td>10.0</td>\n",
       "      <td>22.0</td>\n",
       "      <td>2</td>\n",
       "      <td>Acacia</td>\n",
       "      <td>melanoceras</td>\n",
       "    </tr>\n",
       "    <tr>\n",
       "      <th>1</th>\n",
       "      <td>ACALDI</td>\n",
       "      <td>819.0</td>\n",
       "      <td>526.0</td>\n",
       "      <td>490.0</td>\n",
       "      <td>746.0</td>\n",
       "      <td>1</td>\n",
       "      <td>Acalypha</td>\n",
       "      <td>diversifolia</td>\n",
       "    </tr>\n",
       "    <tr>\n",
       "      <th>2</th>\n",
       "      <td>ACALMA</td>\n",
       "      <td>44.0</td>\n",
       "      <td>42.0</td>\n",
       "      <td>43.0</td>\n",
       "      <td>52.0</td>\n",
       "      <td>1</td>\n",
       "      <td>Acalypha</td>\n",
       "      <td>macrostachya</td>\n",
       "    </tr>\n",
       "    <tr>\n",
       "      <th>3</th>\n",
       "      <td>ADE1TR</td>\n",
       "      <td>280.0</td>\n",
       "      <td>219.0</td>\n",
       "      <td>163.0</td>\n",
       "      <td>142.0</td>\n",
       "      <td>2</td>\n",
       "      <td>Adelia</td>\n",
       "      <td>triloba</td>\n",
       "    </tr>\n",
       "    <tr>\n",
       "      <th>4</th>\n",
       "      <td>AEGIPA</td>\n",
       "      <td>92.0</td>\n",
       "      <td>77.0</td>\n",
       "      <td>62.0</td>\n",
       "      <td>44.0</td>\n",
       "      <td>2</td>\n",
       "      <td>Aegiphila</td>\n",
       "      <td>panamensis</td>\n",
       "    </tr>\n",
       "  </tbody>\n",
       "</table>\n",
       "</div>"
      ],
      "text/plain": [
       "       sp  Y1990  Y1995  Y2000  Y2005  height_cluster      genus       species\n",
       "0  ACACME   11.0   12.0   10.0   22.0               2     Acacia   melanoceras\n",
       "1  ACALDI  819.0  526.0  490.0  746.0               1   Acalypha  diversifolia\n",
       "2  ACALMA   44.0   42.0   43.0   52.0               1   Acalypha  macrostachya\n",
       "3  ADE1TR  280.0  219.0  163.0  142.0               2     Adelia       triloba\n",
       "4  AEGIPA   92.0   77.0   62.0   44.0               2  Aegiphila    panamensis"
      ]
     },
     "execution_count": 4,
     "metadata": {},
     "output_type": "execute_result"
    }
   ],
   "source": [
    "df_counts.head()"
   ]
  },
  {
   "cell_type": "code",
   "execution_count": 4,
   "id": "5616b50f",
   "metadata": {},
   "outputs": [
    {
     "data": {
      "text/plain": [
       "320"
      ]
     },
     "execution_count": 4,
     "metadata": {},
     "output_type": "execute_result"
    }
   ],
   "source": [
    "len(df_counts) ## 320 species exist "
   ]
  },
  {
   "cell_type": "code",
   "execution_count": 12,
   "id": "aac2bc19",
   "metadata": {},
   "outputs": [
    {
     "data": {
      "text/html": [
       "<div>\n",
       "<style scoped>\n",
       "    .dataframe tbody tr th:only-of-type {\n",
       "        vertical-align: middle;\n",
       "    }\n",
       "\n",
       "    .dataframe tbody tr th {\n",
       "        vertical-align: top;\n",
       "    }\n",
       "\n",
       "    .dataframe thead th {\n",
       "        text-align: right;\n",
       "    }\n",
       "</style>\n",
       "<table border=\"1\" class=\"dataframe\">\n",
       "  <thead>\n",
       "    <tr style=\"text-align: right;\">\n",
       "      <th></th>\n",
       "      <th>sp</th>\n",
       "      <th>Y1990</th>\n",
       "      <th>Y1995</th>\n",
       "      <th>Y2000</th>\n",
       "      <th>Y2005</th>\n",
       "      <th>height_cluster</th>\n",
       "      <th>genus</th>\n",
       "      <th>species</th>\n",
       "    </tr>\n",
       "  </thead>\n",
       "  <tbody>\n",
       "    <tr>\n",
       "      <th>222</th>\n",
       "      <td>POUTRE</td>\n",
       "      <td>1766.0</td>\n",
       "      <td>1625.0</td>\n",
       "      <td>1400.0</td>\n",
       "      <td>1204.0</td>\n",
       "      <td>4</td>\n",
       "      <td>Pouteria</td>\n",
       "      <td>reticulata</td>\n",
       "    </tr>\n",
       "    <tr>\n",
       "      <th>305</th>\n",
       "      <td>VIROSE</td>\n",
       "      <td>2081.0</td>\n",
       "      <td>1861.0</td>\n",
       "      <td>1613.0</td>\n",
       "      <td>1394.0</td>\n",
       "      <td>4</td>\n",
       "      <td>Virola</td>\n",
       "      <td>sebifera</td>\n",
       "    </tr>\n",
       "    <tr>\n",
       "      <th>219</th>\n",
       "      <td>POULAR</td>\n",
       "      <td>2120.0</td>\n",
       "      <td>1774.0</td>\n",
       "      <td>1403.0</td>\n",
       "      <td>1162.0</td>\n",
       "      <td>4</td>\n",
       "      <td>Poulsenia</td>\n",
       "      <td>armata</td>\n",
       "    </tr>\n",
       "    <tr>\n",
       "      <th>85</th>\n",
       "      <td>DRYPST</td>\n",
       "      <td>2279.0</td>\n",
       "      <td>2239.0</td>\n",
       "      <td>2193.0</td>\n",
       "      <td>2180.0</td>\n",
       "      <td>4</td>\n",
       "      <td>Drypetes</td>\n",
       "      <td>standleyi</td>\n",
       "    </tr>\n",
       "    <tr>\n",
       "      <th>247</th>\n",
       "      <td>QUARAS</td>\n",
       "      <td>2347.0</td>\n",
       "      <td>2290.0</td>\n",
       "      <td>2200.0</td>\n",
       "      <td>2137.0</td>\n",
       "      <td>4</td>\n",
       "      <td>Quararibea</td>\n",
       "      <td>asterolepis</td>\n",
       "    </tr>\n",
       "    <tr>\n",
       "      <th>33</th>\n",
       "      <td>BEILPE</td>\n",
       "      <td>2748.0</td>\n",
       "      <td>2589.0</td>\n",
       "      <td>2319.0</td>\n",
       "      <td>2115.0</td>\n",
       "      <td>4</td>\n",
       "      <td>Beilschmiedi</td>\n",
       "      <td>pendula</td>\n",
       "    </tr>\n",
       "    <tr>\n",
       "      <th>281</th>\n",
       "      <td>TACHVE</td>\n",
       "      <td>3094.0</td>\n",
       "      <td>2947.0</td>\n",
       "      <td>2485.0</td>\n",
       "      <td>2234.0</td>\n",
       "      <td>4</td>\n",
       "      <td>Tachigali</td>\n",
       "      <td>versicolor</td>\n",
       "    </tr>\n",
       "    <tr>\n",
       "      <th>287</th>\n",
       "      <td>TET2PA</td>\n",
       "      <td>4116.0</td>\n",
       "      <td>4139.0</td>\n",
       "      <td>4230.0</td>\n",
       "      <td>4493.0</td>\n",
       "      <td>4</td>\n",
       "      <td>Tetragastris</td>\n",
       "      <td>panamensis</td>\n",
       "    </tr>\n",
       "    <tr>\n",
       "      <th>9</th>\n",
       "      <td>ALSEBL</td>\n",
       "      <td>8415.0</td>\n",
       "      <td>8177.0</td>\n",
       "      <td>7872.0</td>\n",
       "      <td>7754.0</td>\n",
       "      <td>4</td>\n",
       "      <td>Alseis</td>\n",
       "      <td>blackiana</td>\n",
       "    </tr>\n",
       "    <tr>\n",
       "      <th>296</th>\n",
       "      <td>TRI2TU</td>\n",
       "      <td>13294.0</td>\n",
       "      <td>12822.0</td>\n",
       "      <td>11983.0</td>\n",
       "      <td>11344.0</td>\n",
       "      <td>4</td>\n",
       "      <td>Trichilia</td>\n",
       "      <td>tuberculata</td>\n",
       "    </tr>\n",
       "  </tbody>\n",
       "</table>\n",
       "</div>"
      ],
      "text/plain": [
       "         sp    Y1990    Y1995    Y2000    Y2005  height_cluster         genus  \\\n",
       "222  POUTRE   1766.0   1625.0   1400.0   1204.0               4      Pouteria   \n",
       "305  VIROSE   2081.0   1861.0   1613.0   1394.0               4        Virola   \n",
       "219  POULAR   2120.0   1774.0   1403.0   1162.0               4     Poulsenia   \n",
       "85   DRYPST   2279.0   2239.0   2193.0   2180.0               4      Drypetes   \n",
       "247  QUARAS   2347.0   2290.0   2200.0   2137.0               4    Quararibea   \n",
       "33   BEILPE   2748.0   2589.0   2319.0   2115.0               4  Beilschmiedi   \n",
       "281  TACHVE   3094.0   2947.0   2485.0   2234.0               4     Tachigali   \n",
       "287  TET2PA   4116.0   4139.0   4230.0   4493.0               4  Tetragastris   \n",
       "9    ALSEBL   8415.0   8177.0   7872.0   7754.0               4        Alseis   \n",
       "296  TRI2TU  13294.0  12822.0  11983.0  11344.0               4     Trichilia   \n",
       "\n",
       "         species  \n",
       "222   reticulata  \n",
       "305     sebifera  \n",
       "219       armata  \n",
       "85     standleyi  \n",
       "247  asterolepis  \n",
       "33       pendula  \n",
       "281   versicolor  \n",
       "287   panamensis  \n",
       "9      blackiana  \n",
       "296  tuberculata  "
      ]
     },
     "execution_count": 12,
     "metadata": {},
     "output_type": "execute_result"
    }
   ],
   "source": [
    "df_temp=deepcopy(df_counts)\n",
    "df_temp[df_temp['height_cluster']==4].sort_values(by=['Y1990']).tail(10)\n",
    "\n"
   ]
  },
  {
   "cell_type": "code",
   "execution_count": 13,
   "id": "5649281e",
   "metadata": {},
   "outputs": [
    {
     "data": {
      "text/html": [
       "<div>\n",
       "<style scoped>\n",
       "    .dataframe tbody tr th:only-of-type {\n",
       "        vertical-align: middle;\n",
       "    }\n",
       "\n",
       "    .dataframe tbody tr th {\n",
       "        vertical-align: top;\n",
       "    }\n",
       "\n",
       "    .dataframe thead th {\n",
       "        text-align: right;\n",
       "    }\n",
       "</style>\n",
       "<table border=\"1\" class=\"dataframe\">\n",
       "  <thead>\n",
       "    <tr style=\"text-align: right;\">\n",
       "      <th></th>\n",
       "      <th>sp</th>\n",
       "      <th>Y1990</th>\n",
       "      <th>Y1995</th>\n",
       "      <th>Y2000</th>\n",
       "      <th>Y2005</th>\n",
       "      <th>height_cluster</th>\n",
       "      <th>genus</th>\n",
       "      <th>species</th>\n",
       "    </tr>\n",
       "  </thead>\n",
       "  <tbody>\n",
       "    <tr>\n",
       "      <th>33</th>\n",
       "      <td>BEILPE</td>\n",
       "      <td>2748.0</td>\n",
       "      <td>2589.0</td>\n",
       "      <td>2319.0</td>\n",
       "      <td>2115.0</td>\n",
       "      <td>4</td>\n",
       "      <td>Beilschmiedi</td>\n",
       "      <td>pendula</td>\n",
       "    </tr>\n",
       "  </tbody>\n",
       "</table>\n",
       "</div>"
      ],
      "text/plain": [
       "        sp   Y1990   Y1995   Y2000   Y2005  height_cluster         genus  \\\n",
       "33  BEILPE  2748.0  2589.0  2319.0  2115.0               4  Beilschmiedi   \n",
       "\n",
       "    species  \n",
       "33  pendula  "
      ]
     },
     "execution_count": 13,
     "metadata": {},
     "output_type": "execute_result"
    }
   ],
   "source": [
    "df_temp[df_temp['genus']=='Beilschmiedi']"
   ]
  },
  {
   "cell_type": "code",
   "execution_count": 8,
   "id": "0cc90b69",
   "metadata": {},
   "outputs": [
    {
     "data": {
      "text/html": [
       "<div>\n",
       "<style scoped>\n",
       "    .dataframe tbody tr th:only-of-type {\n",
       "        vertical-align: middle;\n",
       "    }\n",
       "\n",
       "    .dataframe tbody tr th {\n",
       "        vertical-align: top;\n",
       "    }\n",
       "\n",
       "    .dataframe thead th {\n",
       "        text-align: right;\n",
       "    }\n",
       "</style>\n",
       "<table border=\"1\" class=\"dataframe\">\n",
       "  <thead>\n",
       "    <tr style=\"text-align: right;\">\n",
       "      <th></th>\n",
       "      <th>sp</th>\n",
       "      <th>Y1990</th>\n",
       "      <th>Y1995</th>\n",
       "      <th>Y2000</th>\n",
       "      <th>Y2005</th>\n",
       "      <th>height_cluster</th>\n",
       "      <th>genus</th>\n",
       "      <th>species</th>\n",
       "    </tr>\n",
       "  </thead>\n",
       "  <tbody>\n",
       "    <tr>\n",
       "      <th>0</th>\n",
       "      <td>ACACME</td>\n",
       "      <td>11.0</td>\n",
       "      <td>12.0</td>\n",
       "      <td>10.0</td>\n",
       "      <td>22.0</td>\n",
       "      <td>2</td>\n",
       "      <td>Acacia</td>\n",
       "      <td>melanoceras</td>\n",
       "    </tr>\n",
       "    <tr>\n",
       "      <th>3</th>\n",
       "      <td>ADE1TR</td>\n",
       "      <td>280.0</td>\n",
       "      <td>219.0</td>\n",
       "      <td>163.0</td>\n",
       "      <td>142.0</td>\n",
       "      <td>2</td>\n",
       "      <td>Adelia</td>\n",
       "      <td>triloba</td>\n",
       "    </tr>\n",
       "    <tr>\n",
       "      <th>4</th>\n",
       "      <td>AEGIPA</td>\n",
       "      <td>92.0</td>\n",
       "      <td>77.0</td>\n",
       "      <td>62.0</td>\n",
       "      <td>44.0</td>\n",
       "      <td>2</td>\n",
       "      <td>Aegiphila</td>\n",
       "      <td>panamensis</td>\n",
       "    </tr>\n",
       "    <tr>\n",
       "      <th>8</th>\n",
       "      <td>ALLOPS</td>\n",
       "      <td>153.0</td>\n",
       "      <td>123.0</td>\n",
       "      <td>112.0</td>\n",
       "      <td>103.0</td>\n",
       "      <td>2</td>\n",
       "      <td>Allophylus</td>\n",
       "      <td>psilospermus</td>\n",
       "    </tr>\n",
       "    <tr>\n",
       "      <th>16</th>\n",
       "      <td>ANNOSP</td>\n",
       "      <td>143.0</td>\n",
       "      <td>177.0</td>\n",
       "      <td>134.0</td>\n",
       "      <td>123.0</td>\n",
       "      <td>2</td>\n",
       "      <td>Annona</td>\n",
       "      <td>spraguei</td>\n",
       "    </tr>\n",
       "    <tr>\n",
       "      <th>...</th>\n",
       "      <td>...</td>\n",
       "      <td>...</td>\n",
       "      <td>...</td>\n",
       "      <td>...</td>\n",
       "      <td>...</td>\n",
       "      <td>...</td>\n",
       "      <td>...</td>\n",
       "      <td>...</td>\n",
       "    </tr>\n",
       "    <tr>\n",
       "      <th>275</th>\n",
       "      <td>SWARS1</td>\n",
       "      <td>2575.0</td>\n",
       "      <td>2605.0</td>\n",
       "      <td>2670.0</td>\n",
       "      <td>2784.0</td>\n",
       "      <td>2</td>\n",
       "      <td>Swartzia</td>\n",
       "      <td>simplex_var.</td>\n",
       "    </tr>\n",
       "    <tr>\n",
       "      <th>276</th>\n",
       "      <td>SWARS2</td>\n",
       "      <td>2864.0</td>\n",
       "      <td>2876.0</td>\n",
       "      <td>2884.0</td>\n",
       "      <td>2926.0</td>\n",
       "      <td>2</td>\n",
       "      <td>Swartzia</td>\n",
       "      <td>simplex_var.</td>\n",
       "    </tr>\n",
       "    <tr>\n",
       "      <th>283</th>\n",
       "      <td>TALIPR</td>\n",
       "      <td>672.0</td>\n",
       "      <td>643.0</td>\n",
       "      <td>632.0</td>\n",
       "      <td>664.0</td>\n",
       "      <td>2</td>\n",
       "      <td>Talisia</td>\n",
       "      <td>princeps</td>\n",
       "    </tr>\n",
       "    <tr>\n",
       "      <th>291</th>\n",
       "      <td>TOCOPI</td>\n",
       "      <td>8.0</td>\n",
       "      <td>7.0</td>\n",
       "      <td>7.0</td>\n",
       "      <td>7.0</td>\n",
       "      <td>2</td>\n",
       "      <td>Tocoyena</td>\n",
       "      <td>pittieri</td>\n",
       "    </tr>\n",
       "    <tr>\n",
       "      <th>295</th>\n",
       "      <td>TRI2PA</td>\n",
       "      <td>588.0</td>\n",
       "      <td>566.0</td>\n",
       "      <td>516.0</td>\n",
       "      <td>478.0</td>\n",
       "      <td>2</td>\n",
       "      <td>Trichilia</td>\n",
       "      <td>pallida</td>\n",
       "    </tr>\n",
       "  </tbody>\n",
       "</table>\n",
       "<p>75 rows × 8 columns</p>\n",
       "</div>"
      ],
      "text/plain": [
       "         sp   Y1990   Y1995   Y2000   Y2005  height_cluster       genus  \\\n",
       "0    ACACME    11.0    12.0    10.0    22.0               2      Acacia   \n",
       "3    ADE1TR   280.0   219.0   163.0   142.0               2      Adelia   \n",
       "4    AEGIPA    92.0    77.0    62.0    44.0               2   Aegiphila   \n",
       "8    ALLOPS   153.0   123.0   112.0   103.0               2  Allophylus   \n",
       "16   ANNOSP   143.0   177.0   134.0   123.0               2      Annona   \n",
       "..      ...     ...     ...     ...     ...             ...         ...   \n",
       "275  SWARS1  2575.0  2605.0  2670.0  2784.0               2    Swartzia   \n",
       "276  SWARS2  2864.0  2876.0  2884.0  2926.0               2    Swartzia   \n",
       "283  TALIPR   672.0   643.0   632.0   664.0               2     Talisia   \n",
       "291  TOCOPI     8.0     7.0     7.0     7.0               2    Tocoyena   \n",
       "295  TRI2PA   588.0   566.0   516.0   478.0               2   Trichilia   \n",
       "\n",
       "          species  \n",
       "0     melanoceras  \n",
       "3         triloba  \n",
       "4      panamensis  \n",
       "8    psilospermus  \n",
       "16       spraguei  \n",
       "..            ...  \n",
       "275  simplex_var.  \n",
       "276  simplex_var.  \n",
       "283      princeps  \n",
       "291      pittieri  \n",
       "295       pallida  \n",
       "\n",
       "[75 rows x 8 columns]"
      ]
     },
     "execution_count": 8,
     "metadata": {},
     "output_type": "execute_result"
    }
   ],
   "source": [
    "df_counts[df_counts['height_cluster']==2]"
   ]
  },
  {
   "cell_type": "markdown",
   "id": "9864623a",
   "metadata": {},
   "source": [
    "# Fit log G\n",
    "- When just fitting logG, BDI does better than Laplace but not better than Weibull\n",
    "- to the eye, BDI does a good job at fitting the abundance and growth rate distributions with one shape parameter\n",
    "- abundance distribution needs to use Preston's method of binning to divide data on bin boundaries into nearby octaves.."
   ]
  },
  {
   "cell_type": "markdown",
   "id": "500acd62",
   "metadata": {},
   "source": [
    "## fit just log G and compare to other distributions\n",
    "\n",
    "BDI does better than laplace, but not better than weibull"
   ]
  },
  {
   "cell_type": "code",
   "execution_count": 6,
   "id": "81819d3e",
   "metadata": {},
   "outputs": [
    {
     "name": "stderr",
     "output_type": "stream",
     "text": [
      "/Users/ashish/anaconda3/envs/cities/lib/python3.7/site-packages/scipy/stats/_distn_infrastructure.py:1833: RuntimeWarning: divide by zero encountered in log\n",
      "  return log(self._pdf(x, *args))\n",
      "/Users/ashish/anaconda3/envs/cities/lib/python3.7/site-packages/scipy/stats/_distn_infrastructure.py:1833: RuntimeWarning: invalid value encountered in log\n",
      "  return log(self._pdf(x, *args))\n",
      "/Users/ashish/anaconda3/envs/cities/lib/python3.7/site-packages/scipy/stats/_distn_infrastructure.py:1837: IntegrationWarning: The occurrence of roundoff error is detected, which prevents \n",
      "  the requested tolerance from being achieved.  The error may be \n",
      "  underestimated.\n",
      "  return integrate.quad(self._pdf, _a, x, args=args)[0]\n"
     ]
    },
    {
     "name": "stdout",
     "output_type": "stream",
     "text": [
      "fit parameters tp= 0.003603332552969507 , and m/D= 0.6934336736322417\n",
      "AIC_BDI,AIC_laplace,AIC_weibull = -147.37726564003952 -41.20374047771307 -1155.076668617098\n",
      "-1155.076668617098\n",
      "weibull actually does the best\n"
     ]
    },
    {
     "data": {
      "image/png": "[encoded data removed]",
      "text/plain": [
       "<Figure size 360x360 with 1 Axes>"
      ]
     },
     "metadata": {},
     "output_type": "display_data"
    }
   ],
   "source": [
    "neutral_inst = shared_func.azaele_neutral_logG_distribution()\n",
    "weibull_inst = shared_func.symmetric_weibull_gen() \n",
    "\n",
    "n_bins=30\n",
    "\n",
    "fig = plt.figure(figsize=(5, 5))\n",
    "ax1 = fig.add_subplot()\n",
    "\n",
    "weibull_k_MLE,_ , weibull_lambda_MLE=  weibull_inst.fit(logG,\n",
    "                                                        .6, scale=.005, floc=0)\n",
    "neut_tp, neut_bd, loc_neut, scale_neut = neutral_inst.fit(\n",
    "        logG,10., 1., floc=0,fscale=1.)\n",
    "_, scale_laplace=scipy.stats.laplace.fit(logG,floc=0,scale=.2)\n",
    "\n",
    "logLik = np.sum( stats.laplace.logpdf(logG, loc=0,scale= scale_laplace ) ) \n",
    "AIC_laplace=2*1-2*logLik\n",
    "\n",
    "logLik = np.sum( neutral_inst.logpdf(logG, neut_tp, neut_bd, loc=loc_neut,scale= scale_neut ) ) \n",
    "AIC_BDI=2*2-2*logLik\n",
    "\n",
    "logLik = np.sum( weibull_inst.logpdf(logG, weibull_k_MLE,\n",
    "                    loc=0,scale= weibull_lambda_MLE ) ) \n",
    "AIC_weibull=2*2-2*logLik\n",
    "\n",
    "histogram, bins = np.histogram(logG, bins=n_bins, density=True)\n",
    "bin_centers = 0.5*(bins[1:] + bins[:-1])\n",
    "ax1.hist(logG, bins=n_bins, density=True)\n",
    "\n",
    "ax1.plot(bin_centers, neutral_inst.pdf(bin_centers, neut_tp, neut_bd, loc=loc_neut,scale= scale_neut),\n",
    "         'r-',lw=2,label='BDI model') \n",
    "ax1.plot(bin_centers,scipy.stats.laplace.pdf(bin_centers,loc=0,scale=scale_laplace),\n",
    "                         'c-',lw=2,label='Laplace')\n",
    "ax1.plot(bin_centers,weibull_inst.pdf(bin_centers,weibull_k_MLE,\n",
    "                    loc=0,scale= weibull_lambda_MLE), 'k-',lw=2,label='Weibull MLE')\n",
    "ax1.set_xlabel(r'logG, $r$')\n",
    "ax1.set_yscale('log')\n",
    "ax1.set_ylim(5e-3,3.5)\n",
    "ax1.legend(loc='best')\n",
    "\n",
    "print('fit parameters tp=',neut_tp,', and m/D=',neut_bd)\n",
    "\n",
    "print('AIC_BDI,AIC_laplace,AIC_weibull =',AIC_BDI,AIC_laplace,AIC_weibull)\n",
    "print (min ([AIC_BDI,AIC_laplace,AIC_weibull]))\n",
    "print ('weibull actually does the best')\n",
    "fig.tight_layout()\n",
    "\n",
    "results_fit={'m/D_logG':neut_bd,'tp':neut_tp}   \n",
    "\n",
    "with open(fit_params_path+'fit_logG_-fitvals.pkl', 'wb') as handle:\n",
    "    pickle.dump(results_fit, handle)  "
   ]
  },
  {
   "cell_type": "markdown",
   "id": "22827d1a",
   "metadata": {},
   "source": [
    "## fit log g and abundance"
   ]
  },
  {
   "cell_type": "code",
   "execution_count": 8,
   "id": "5cf30f14",
   "metadata": {},
   "outputs": [
    {
     "name": "stderr",
     "output_type": "stream",
     "text": [
      "/Users/ashish/anaconda3/envs/cities/lib/python3.7/site-packages/scipy/stats/_distn_infrastructure.py:1837: IntegrationWarning: The occurrence of roundoff error is detected, which prevents \n",
      "  the requested tolerance from being achieved.  The error may be \n",
      "  underestimated.\n",
      "  return integrate.quad(self._pdf, _a, x, args=args)[0]\n"
     ]
    },
    {
     "name": "stdout",
     "output_type": "stream",
     "text": [
      "shared shape (from abundance) was  0.30010465489668214\n"
     ]
    },
    {
     "data": {
      "image/png": "[encoded data removed]",
      "text/plain": [
       "<Figure size 576x288 with 2 Axes>"
      ]
     },
     "metadata": {},
     "output_type": "display_data"
    }
   ],
   "source": [
    "neutral_inst = shared_func.azaele_neutral_logG_distribution()\n",
    "n_bins=20\n",
    "popn_1995=popn[:,1]\n",
    "popn_1995=popn_1995[popn_1995>0]\n",
    "a_gamma,dummy_loc_gamma, scale_gamma=scipy.stats.gamma.fit(\n",
    "                            popn_1995, 1.,floc=0.,scale=2 )\n",
    "fig = plt.figure(figsize=(8, 4))\n",
    "ax1 = fig.add_subplot(1,2,1)\n",
    "ax2 = fig.add_subplot(1,2,2)\n",
    "\n",
    "# histogram, bins = np.histogram(popn_1995, bins=n_bins, density=True)\n",
    "# bin_centers = 0.5*(bins[1:] + bins[:-1])\n",
    "# ax1.hist(popn_1995,density=True, bins=n_bins)\n",
    "# ax1.plot(bin_centers, scipy.stats.gamma.pdf(bin_centers,\n",
    "#                             a_gamma,loc=0.,scale=scale_gamma),'r-',lw=3)\n",
    "# bins_abu=np.logspace(np.log10(1),np.log10(5e5),40 )\n",
    "bins_abu=np.logspace(np.log10(1),np.log10(1200),40 )\n",
    "histogram, bins = np.histogram(popn_1995, bins=bins_abu, density=True)\n",
    "bin_centers = 0.5*(bins[1:] + bins[:-1])\n",
    "ax1.hist(popn_1995,density=True, bins=bins_abu)\n",
    "ax1.plot(bin_centers, scipy.stats.gamma.pdf(bin_centers,\n",
    "                            a_gamma,loc=0.,scale=scale_gamma),'r-',lw=3)\n",
    "# ax1.hist(popn_1995,density=True, bins=np.logspace(np.log10(1),np.log10(5e5),20 ))\n",
    "ax1.set_xscale('log')\n",
    "# ax1.set_yscale('log')\n",
    "ax1.set_xlabel('abundance')\n",
    "\n",
    "\n",
    "neut_tp, neut_bd, loc_neut, scale_neut = neutral_inst.fit(\n",
    "        logG,10., fbd=a_gamma, floc=0,fscale=1.)\n",
    "histogram, bins = np.histogram(logG, bins=n_bins, density=True)\n",
    "bin_centers = 0.5*(bins[1:] + bins[:-1])\n",
    "ax2.hist(logG, bins=n_bins, density=True)\n",
    "\n",
    "ax2.plot(bin_centers, neutral_inst.pdf(bin_centers, neut_tp, neut_bd, loc=loc_neut,scale= scale_neut),\n",
    "         'r-',lw=3,label='BDI model') \n",
    "ax2.set_xlabel(r'logG, $r$')\n",
    "ax2.set_yscale('log')\n",
    "fig.tight_layout()\n",
    "\n",
    "print('shared shape (from abundance) was ', neut_bd)\n",
    "\n",
    "\n",
    "results_fit={'m/D_AFD':a_gamma,'tp':neut_tp,'Dtau':scale_gamma}   \n",
    "\n",
    "with open(fit_params_path+'fit_logG_with_AFD-fitvals.pkl', 'wb') as handle:\n",
    "    pickle.dump(results_fit, handle) "
   ]
  },
  {
   "cell_type": "markdown",
   "id": "03f0ccce",
   "metadata": {},
   "source": [
    "### Preston's method of binning abundances\n",
    "- unfinished. Started because Azaele paper used this method to split values on bin boundaries to either side and smoothen then empirical distribution\n",
    "- Further, Azaele et al plotted the best fit to the empirical histogram, not the maximum likelihood fit."
   ]
  },
  {
   "cell_type": "code",
   "execution_count": 63,
   "id": "bc4b76b8",
   "metadata": {},
   "outputs": [
    {
     "name": "stdout",
     "output_type": "stream",
     "text": [
      "0\n",
      "st= 1 1\n",
      "end= 2 2\n",
      "1\n",
      "st= 2 2\n",
      "end= 4 4\n",
      "2\n",
      "st= 4 4\n",
      "end= 8 8\n",
      "5 7\n",
      "5 7\n",
      "3\n",
      "st= 8 8\n",
      "end= 14 16\n",
      "9 13\n",
      "9 15\n",
      "4\n",
      "st= 14 16\n",
      "15 25\n",
      "17 31\n"
     ]
    }
   ],
   "source": [
    "bins=np.exp2(np.arange(0,17)).astype(int)\n",
    "# popn_int=np.array(popn[:,0]).astype(int)\n",
    "popn_int=np.array(popn[:,1]).astype(int)\n",
    "elem, count_elem=np.unique(popn_int, return_counts = True)\n",
    "\n",
    "count_arr=np.zeros_like(bins)\n",
    "\n",
    "for i,bin_st in enumerate(bins[:-1]):\n",
    "    bin_end=bins[i+1]\n",
    "    \n",
    "    count=0\n",
    "    \n",
    "    idx_st\n",
    "    print (i)\n",
    "    if np.any(elem==bin_st):\n",
    "        idx_st=np.where(elem==bin_st)[0][0]\n",
    "        count=count+count_elem[idx_st]/2\n",
    "        print ('st=',idx_st,elem[idx_st])\n",
    "    if np.any(elem==bin_end):\n",
    "        idx_end=np.where(elem==bin_end)[0][0]\n",
    "        count=count+count_elem[idx_end]/2\n",
    "        print ('end=',idx_end,elem[idx_end])\n",
    "    idx_st=np.where(elem>bin_st)[0][0]\n",
    "    idx_end=np.where(elem<bin_end)[0][-1]\n",
    "#     print('count1is' ,count)\n",
    "    if idx_end>idx_st:\n",
    "        count=count+np.sum(count_elem[idx_st:idx_end+1])\n",
    "        print (idx_st,idx_end)\n",
    "        print (elem[idx_st], elem[idx_end])\n",
    "    \n",
    "#     print('count2is' ,count)  \n",
    "    count_arr[i]=count\n",
    "    if i>3:\n",
    "        break\n",
    "    \n",
    "    \n",
    "    \n",
    "    \n"
   ]
  },
  {
   "cell_type": "code",
   "execution_count": 64,
   "id": "cc2e67a8",
   "metadata": {},
   "outputs": [
    {
     "data": {
      "text/plain": [
       "array([16,  8, 19, 15, 25,  0,  0,  0,  0,  0,  0,  0,  0,  0,  0,  0,  0])"
      ]
     },
     "execution_count": 64,
     "metadata": {},
     "output_type": "execute_result"
    }
   ],
   "source": [
    "count_arr"
   ]
  },
  {
   "cell_type": "code",
   "execution_count": 57,
   "id": "ab5a527c",
   "metadata": {},
   "outputs": [
    {
     "data": {
      "text/plain": [
       "array([23, 10])"
      ]
     },
     "execution_count": 57,
     "metadata": {},
     "output_type": "execute_result"
    }
   ],
   "source": [
    "count_elem[0:2]"
   ]
  },
  {
   "cell_type": "code",
   "execution_count": 48,
   "id": "e32550b1",
   "metadata": {},
   "outputs": [
    {
     "data": {
      "text/plain": [
       "(array([197]),)"
      ]
     },
     "execution_count": 48,
     "metadata": {},
     "output_type": "execute_result"
    }
   ],
   "source": [
    "np.where(elem>bin_st)"
   ]
  },
  {
   "cell_type": "code",
   "execution_count": 51,
   "id": "fb026546",
   "metadata": {},
   "outputs": [
    {
     "data": {
      "text/plain": [
       "array([1])"
      ]
     },
     "execution_count": 51,
     "metadata": {},
     "output_type": "execute_result"
    }
   ],
   "source": [
    "elem[0:1]"
   ]
  },
  {
   "cell_type": "code",
   "execution_count": 47,
   "id": "691ee89a",
   "metadata": {},
   "outputs": [
    {
     "data": {
      "text/plain": [
       "array([    1,     2,     3,     4,     5,     6,     7,     8,     9,\n",
       "          11,    12,    13,    15,    16,    17,    19,    20,    21,\n",
       "          22,    23,    25,    27,    29,    30,    31,    33,    34,\n",
       "          37,    38,    39,    40,    42,    43,    48,    49,    50,\n",
       "          52,    53,    54,    57,    60,    63,    64,    65,    68,\n",
       "          70,    71,    73,    75,    77,    78,    79,    80,    82,\n",
       "          84,    86,    87,    88,    91,    92,    99,   103,   105,\n",
       "         106,   108,   110,   112,   113,   114,   116,   117,   121,\n",
       "         123,   128,   132,   134,   138,   139,   140,   144,   154,\n",
       "         156,   168,   170,   172,   174,   176,   177,   180,   186,\n",
       "         204,   205,   208,   213,   216,   219,   226,   228,   251,\n",
       "         255,   257,   258,   268,   274,   278,   291,   293,   300,\n",
       "         301,   307,   312,   324,   339,   340,   373,   374,   377,\n",
       "         378,   394,   395,   396,   404,   448,   456,   474,   526,\n",
       "         528,   533,   540,   542,   561,   565,   566,   629,   643,\n",
       "         673,   686,   698,   710,   715,   719,   723,   775,   779,\n",
       "         790,   799,   820,   837,   909,   954,   967,   973,   989,\n",
       "        1000,  1053,  1108,  1116,  1132,  1174,  1204,  1227,  1238,\n",
       "        1256,  1417,  1490,  1503,  1506,  1541,  1606,  1625,  1632,\n",
       "        1774,  1847,  1861,  1923,  2042,  2217,  2239,  2290,  2426,\n",
       "        2589,  2605,  2876,  2937,  2947,  3009,  3115,  3299,  4139,\n",
       "        4295,  4857,  5044,  7125,  8177, 11759, 12822, 27134, 36060])"
      ]
     },
     "execution_count": 47,
     "metadata": {},
     "output_type": "execute_result"
    }
   ],
   "source": [
    "elem"
   ]
  },
  {
   "cell_type": "code",
   "execution_count": 45,
   "id": "577c4639",
   "metadata": {},
   "outputs": [
    {
     "data": {
      "text/plain": [
       "array([23, 10,  9,  6,  3,  7,  5,  3,  4,  3,  2,  3,  1,  1,  3,  2,  3,\n",
       "        5,  3,  1,  2,  2,  2,  1,  1,  2,  1,  1,  1,  1,  1,  2,  2,  2,\n",
       "        2,  4,  2,  1,  1,  1,  1,  1,  1,  2,  1,  1,  1,  2,  1,  2,  1,\n",
       "        2,  2,  1,  2,  1,  1,  1,  2,  1,  1,  1,  1,  1,  2,  1,  2,  1,\n",
       "        1,  1,  1,  1,  1,  1,  1,  1,  1,  1,  2,  3,  1,  1,  1,  1,  1,\n",
       "        1,  1,  1,  1,  2,  1,  1,  1,  1,  1,  1,  1,  1,  1,  1,  1,  1,\n",
       "        1,  1,  1,  1,  2,  1,  1,  1,  1,  1,  1,  1,  1,  1,  1,  1,  1,\n",
       "        1,  1,  2,  1,  1,  1,  1,  2,  1,  1,  2,  1,  1,  1,  1,  1,  1,\n",
       "        1,  1,  1,  1,  1,  1,  1,  1,  1,  1,  1,  1,  1,  1,  1,  1,  1,\n",
       "        1,  1,  1,  1,  1,  1,  1,  1,  1,  1,  1,  1,  1,  1,  1,  1,  1,\n",
       "        1,  1,  1,  1,  1,  1,  1,  1,  1,  1,  1,  1,  1,  1,  1,  1,  1,\n",
       "        1,  1,  1,  1,  1,  1,  1,  1,  1,  1,  1])"
      ]
     },
     "execution_count": 45,
     "metadata": {},
     "output_type": "execute_result"
    }
   ],
   "source": [
    "count"
   ]
  },
  {
   "cell_type": "code",
   "execution_count": 37,
   "id": "9477e229",
   "metadata": {},
   "outputs": [
    {
     "data": {
      "text/plain": [
       "array([1.0000e+00, 2.0000e+00, 4.0000e+00, 8.0000e+00, 1.6000e+01,\n",
       "       3.2000e+01, 6.4000e+01, 1.2800e+02, 2.5600e+02, 5.1200e+02,\n",
       "       1.0240e+03, 2.0480e+03, 4.0960e+03, 8.1920e+03, 1.6384e+04,\n",
       "       3.2768e+04, 6.5536e+04])"
      ]
     },
     "execution_count": 37,
     "metadata": {},
     "output_type": "execute_result"
    }
   ],
   "source": [
    "bins"
   ]
  },
  {
   "cell_type": "markdown",
   "id": "6129bd8f",
   "metadata": {},
   "source": [
    "##### fit separately without shape being shared"
   ]
  },
  {
   "cell_type": "code",
   "execution_count": 18,
   "id": "b554195d",
   "metadata": {},
   "outputs": [
    {
     "name": "stderr",
     "output_type": "stream",
     "text": [
      "/Users/ashish/anaconda3/envs/cities/lib/python3.7/site-packages/scipy/stats/_distn_infrastructure.py:1837: IntegrationWarning: The occurrence of roundoff error is detected, which prevents \n",
      "  the requested tolerance from being achieved.  The error may be \n",
      "  underestimated.\n",
      "  return integrate.quad(self._pdf, _a, x, args=args)[0]\n"
     ]
    },
    {
     "name": "stdout",
     "output_type": "stream",
     "text": [
      "the two separate shape parameters were 0.30010465489668214 0.6934336736322417\n"
     ]
    },
    {
     "data": {
      "image/png": "[encoded data removed]",
      "text/plain": [
       "<Figure size 576x288 with 2 Axes>"
      ]
     },
     "metadata": {},
     "output_type": "display_data"
    }
   ],
   "source": [
    "neutral_inst = shared_func.azaele_neutral_logG_distribution()\n",
    "n_bins=20\n",
    "popn_1995=popn[:,1]\n",
    "popn_1995=popn_1995[popn_1995>0]\n",
    "a_gamma,dummy_loc_gamma, scale_gamma=scipy.stats.gamma.fit(\n",
    "                            popn_1995, 1.,floc=0.,scale=2 )\n",
    "fig = plt.figure(figsize=(8, 4))\n",
    "ax1 = fig.add_subplot(1,2,1)\n",
    "ax2 = fig.add_subplot(1,2,2)\n",
    "\n",
    "histogram, bins = np.histogram(popn_1995, bins=n_bins, density=True)\n",
    "bin_centers = 0.5*(bins[1:] + bins[:-1])\n",
    "ax1.hist(popn_1995,density=True, bins=n_bins)\n",
    "ax1.plot(bin_centers, scipy.stats.gamma.pdf(bin_centers,\n",
    "                            a_gamma,loc=0.,scale=scale_gamma),'r-',lw=3)\n",
    "         \n",
    "\n",
    "# ax1.hist(popn_1995,density=True, bins=np.logspace(np.log10(1),np.log10(5e5),20 ))\n",
    "\n",
    "# ax1.set_xscale('log')\n",
    "# ax1.set_yscale('log')\n",
    "ax1.set_xlabel('abundance')\n",
    "\n",
    "\n",
    "neut_tp, neut_bd, loc_neut, scale_neut = neutral_inst.fit(\n",
    "        logG,10., 1., floc=0,fscale=1.)\n",
    "histogram, bins = np.histogram(logG, bins=n_bins, density=True)\n",
    "bin_centers = 0.5*(bins[1:] + bins[:-1])\n",
    "ax2.hist(logG, bins=n_bins, density=True)\n",
    "\n",
    "ax2.plot(bin_centers, neutral_inst.pdf(bin_centers, neut_tp, neut_bd, loc=loc_neut,scale= scale_neut),\n",
    "         'r-',lw=3,label='BDI model') \n",
    "ax2.set_xlabel(r'logG, $r$')\n",
    "fig.tight_layout()\n",
    "\n",
    "print('the two separate shape parameters were', a_gamma,neut_bd)"
   ]
  },
  {
   "cell_type": "code",
   "execution_count": 13,
   "id": "6fe74fdd",
   "metadata": {},
   "outputs": [
    {
     "data": {
      "text/plain": [
       "320"
      ]
     },
     "execution_count": 13,
     "metadata": {},
     "output_type": "execute_result"
    }
   ],
   "source": [
    "len(popn_1995)"
   ]
  },
  {
   "cell_type": "markdown",
   "id": "ff0f1a9d",
   "metadata": {},
   "source": [
    "##### plot"
   ]
  },
  {
   "cell_type": "code",
   "execution_count": 109,
   "id": "142ab98c",
   "metadata": {},
   "outputs": [
    {
     "data": {
      "image/png": "[encoded data removed]",
      "text/plain": [
       "<Figure size 576x288 with 2 Axes>"
      ]
     },
     "metadata": {},
     "output_type": "display_data"
    }
   ],
   "source": [
    "fig = plt.figure(figsize=(8, 4))\n",
    "ax1 = fig.add_subplot(1,2,1)\n",
    "ax2 = fig.add_subplot(1,2,2)\n",
    "ax1.hist(popn[:,1],density=True, bins=np.logspace(np.log10(1),np.log10(5e5),20 ))\n",
    "ax1.set_xscale('log')\n",
    "# ax1.set_yscale('log')\n",
    "ax1.set_xlabel('abundance')\n",
    "ax2.hist(logG,density=True, bins=20)\n",
    "ax2.set_xlabel(r'logG, $r$')\n",
    "fig.tight_layout()"
   ]
  },
  {
   "cell_type": "code",
   "execution_count": null,
   "id": "d666b610",
   "metadata": {},
   "outputs": [],
   "source": []
  },
  {
   "cell_type": "code",
   "execution_count": 104,
   "id": "43af40ba",
   "metadata": {},
   "outputs": [
    {
     "data": {
      "text/plain": [
       "36060.0"
      ]
     },
     "execution_count": 104,
     "metadata": {},
     "output_type": "execute_result"
    }
   ],
   "source": [
    "np.max(popn[:,1])"
   ]
  },
  {
   "cell_type": "code",
   "execution_count": 102,
   "id": "0da15911",
   "metadata": {},
   "outputs": [
    {
     "data": {
      "text/plain": [
       "array([1.00000000e+00, 4.29752973e+00, 1.84687617e+01, 7.93700526e+01,\n",
       "       3.41095160e+02, 1.46586659e+03, 6.29960525e+03, 2.70727408e+04,\n",
       "       1.16345908e+05, 5.00000000e+05])"
      ]
     },
     "execution_count": 102,
     "metadata": {},
     "output_type": "execute_result"
    }
   ],
   "source": [
    "np.logspace(np.log10(1),np.log10(5e5),10 )"
   ]
  },
  {
   "cell_type": "code",
   "execution_count": 64,
   "id": "9da5aadb",
   "metadata": {},
   "outputs": [
    {
     "data": {
      "text/html": [
       "<div>\n",
       "<style scoped>\n",
       "    .dataframe tbody tr th:only-of-type {\n",
       "        vertical-align: middle;\n",
       "    }\n",
       "\n",
       "    .dataframe tbody tr th {\n",
       "        vertical-align: top;\n",
       "    }\n",
       "\n",
       "    .dataframe thead th {\n",
       "        text-align: right;\n",
       "    }\n",
       "</style>\n",
       "<table border=\"1\" class=\"dataframe\">\n",
       "  <thead>\n",
       "    <tr style=\"text-align: right;\">\n",
       "      <th></th>\n",
       "      <th>tag</th>\n",
       "      <th>sp</th>\n",
       "      <th>gx</th>\n",
       "      <th>gy</th>\n",
       "      <th>dbh</th>\n",
       "      <th>pom</th>\n",
       "      <th>date</th>\n",
       "      <th>codes</th>\n",
       "      <th>status</th>\n",
       "    </tr>\n",
       "  </thead>\n",
       "  <tbody>\n",
       "    <tr>\n",
       "      <th>368044</th>\n",
       "      <td>213</td>\n",
       "      <td>ZUELGU</td>\n",
       "      <td>970.6</td>\n",
       "      <td>162.9</td>\n",
       "      <td>481.0</td>\n",
       "      <td>1</td>\n",
       "      <td>9028.0</td>\n",
       "      <td>*</td>\n",
       "      <td>A</td>\n",
       "    </tr>\n",
       "    <tr>\n",
       "      <th>368046</th>\n",
       "      <td>5196</td>\n",
       "      <td>ZUELGU</td>\n",
       "      <td>383.7</td>\n",
       "      <td>250.8</td>\n",
       "      <td>323.0</td>\n",
       "      <td>1</td>\n",
       "      <td>8876.0</td>\n",
       "      <td>*</td>\n",
       "      <td>A</td>\n",
       "    </tr>\n",
       "    <tr>\n",
       "      <th>368049</th>\n",
       "      <td>10584</td>\n",
       "      <td>ZUELGU</td>\n",
       "      <td>979.0</td>\n",
       "      <td>229.6</td>\n",
       "      <td>207.0</td>\n",
       "      <td>1</td>\n",
       "      <td>9029.0</td>\n",
       "      <td>*</td>\n",
       "      <td>A</td>\n",
       "    </tr>\n",
       "    <tr>\n",
       "      <th>368050</th>\n",
       "      <td>11071</td>\n",
       "      <td>ZUELGU</td>\n",
       "      <td>977.7</td>\n",
       "      <td>264.0</td>\n",
       "      <td>164.0</td>\n",
       "      <td>1</td>\n",
       "      <td>9030.0</td>\n",
       "      <td>*</td>\n",
       "      <td>A</td>\n",
       "    </tr>\n",
       "    <tr>\n",
       "      <th>368072</th>\n",
       "      <td>121802</td>\n",
       "      <td>ZUELGU</td>\n",
       "      <td>557.9</td>\n",
       "      <td>218.0</td>\n",
       "      <td>207.0</td>\n",
       "      <td>1</td>\n",
       "      <td>8926.0</td>\n",
       "      <td>*</td>\n",
       "      <td>A</td>\n",
       "    </tr>\n",
       "  </tbody>\n",
       "</table>\n",
       "</div>"
      ],
      "text/plain": [
       "           tag      sp     gx     gy    dbh  pom    date codes status\n",
       "368044     213  ZUELGU  970.6  162.9  481.0    1  9028.0     *      A\n",
       "368046    5196  ZUELGU  383.7  250.8  323.0    1  8876.0     *      A\n",
       "368049   10584  ZUELGU  979.0  229.6  207.0    1  9029.0     *      A\n",
       "368050   11071  ZUELGU  977.7  264.0  164.0    1  9030.0     *      A\n",
       "368072  121802  ZUELGU  557.9  218.0  207.0    1  8926.0     *      A"
      ]
     },
     "execution_count": 64,
     "metadata": {},
     "output_type": "execute_result"
    }
   ],
   "source": [
    "df_sub.head()"
   ]
  },
  {
   "cell_type": "code",
   "execution_count": 65,
   "id": "dcabdc3d",
   "metadata": {},
   "outputs": [
    {
     "data": {
      "text/html": [
       "<div>\n",
       "<style scoped>\n",
       "    .dataframe tbody tr th:only-of-type {\n",
       "        vertical-align: middle;\n",
       "    }\n",
       "\n",
       "    .dataframe tbody tr th {\n",
       "        vertical-align: top;\n",
       "    }\n",
       "\n",
       "    .dataframe thead th {\n",
       "        text-align: right;\n",
       "    }\n",
       "</style>\n",
       "<table border=\"1\" class=\"dataframe\">\n",
       "  <thead>\n",
       "    <tr style=\"text-align: right;\">\n",
       "      <th></th>\n",
       "      <th>sp</th>\n",
       "      <th>Y1990</th>\n",
       "      <th>Y1995</th>\n",
       "      <th>Y2000</th>\n",
       "      <th>Y2005</th>\n",
       "    </tr>\n",
       "  </thead>\n",
       "  <tbody>\n",
       "    <tr>\n",
       "      <th>0</th>\n",
       "      <td>ACACME</td>\n",
       "      <td>11.0</td>\n",
       "      <td>12.0</td>\n",
       "      <td>10.0</td>\n",
       "      <td>22.0</td>\n",
       "    </tr>\n",
       "    <tr>\n",
       "      <th>1</th>\n",
       "      <td>ACALDI</td>\n",
       "      <td>819.0</td>\n",
       "      <td>526.0</td>\n",
       "      <td>490.0</td>\n",
       "      <td>746.0</td>\n",
       "    </tr>\n",
       "    <tr>\n",
       "      <th>2</th>\n",
       "      <td>ACALMA</td>\n",
       "      <td>44.0</td>\n",
       "      <td>42.0</td>\n",
       "      <td>43.0</td>\n",
       "      <td>52.0</td>\n",
       "    </tr>\n",
       "    <tr>\n",
       "      <th>3</th>\n",
       "      <td>ADE1TR</td>\n",
       "      <td>280.0</td>\n",
       "      <td>219.0</td>\n",
       "      <td>163.0</td>\n",
       "      <td>142.0</td>\n",
       "    </tr>\n",
       "    <tr>\n",
       "      <th>4</th>\n",
       "      <td>AEGIPA</td>\n",
       "      <td>92.0</td>\n",
       "      <td>77.0</td>\n",
       "      <td>62.0</td>\n",
       "      <td>44.0</td>\n",
       "    </tr>\n",
       "  </tbody>\n",
       "</table>\n",
       "</div>"
      ],
      "text/plain": [
       "       sp  Y1990  Y1995  Y2000  Y2005\n",
       "0  ACACME   11.0   12.0   10.0   22.0\n",
       "1  ACALDI  819.0  526.0  490.0  746.0\n",
       "2  ACALMA   44.0   42.0   43.0   52.0\n",
       "3  ADE1TR  280.0  219.0  163.0  142.0\n",
       "4  AEGIPA   92.0   77.0   62.0   44.0"
      ]
     },
     "execution_count": 65,
     "metadata": {},
     "output_type": "execute_result"
    }
   ],
   "source": [
    "df_counts.head()"
   ]
  },
  {
   "cell_type": "markdown",
   "id": "fe7b477f",
   "metadata": {},
   "source": [
    "#### some basic checks "
   ]
  },
  {
   "cell_type": "code",
   "execution_count": 27,
   "id": "4cbbc12b",
   "metadata": {
    "code_folding": [
     0
    ]
   },
   "outputs": [
    {
     "name": "stdout",
     "output_type": "stream",
     "text": [
      "320\n",
      "320\n",
      "320\n",
      "320\n"
     ]
    }
   ],
   "source": [
    "#check if same species are mentioned in each file.\n",
    "species_list=list(set(df2['sp']))\n",
    "ctr=0\n",
    "for df in [df2,df3,df4,df5]:\n",
    "    temp_sp_list=list(set(df['sp']))\n",
    "    if len(temp_sp_list)!=len(species_list):\n",
    "        print (ctr)\n",
    "        print (len(temp_sp_list),len(species_list))\n",
    "        \n",
    "    intersect_list=list(set(temp_sp_list) & set(species_list))\n",
    "    print(len(intersect_list))\n",
    "    ctr+=1"
   ]
  },
  {
   "cell_type": "code",
   "execution_count": 19,
   "id": "0662fe2c",
   "metadata": {
    "code_folding": [
     0
    ]
   },
   "outputs": [
    {
     "name": "stdout",
     "output_type": "stream",
     "text": [
      "1465.0 1738.0\n",
      "3323.0 4355.0\n",
      "5114.0 5523.0\n",
      "6941.0 7394.0\n",
      "8768.0 9154.0\n"
     ]
    }
   ],
   "source": [
    "###finding which file is which census by looking at dates\n",
    "\n",
    "a=df1['date'].values\n",
    "a=a[~np.isnan(a)]\n",
    "print (np.min(a), np.max(a))\n",
    "\n",
    "\n",
    "a=df2['date'].values\n",
    "a=a[~np.isnan(a)]\n",
    "print (np.min(a), np.max(a))\n",
    "\n",
    "\n",
    "a=df3['date'].values\n",
    "a=a[~np.isnan(a)]\n",
    "print (np.min(a), np.max(a))\n",
    "\n",
    "a=df4['date'].values\n",
    "a=a[~np.isnan(a)]\n",
    "print (np.min(a), np.max(a))\n",
    "\n",
    "a=df5['date'].values\n",
    "a=a[~np.isnan(a)]\n",
    "print (np.min(a), np.max(a))"
   ]
  },
  {
   "cell_type": "markdown",
   "id": "344c3620",
   "metadata": {},
   "source": [
    "# fit logG of species clusters"
   ]
  },
  {
   "cell_type": "code",
   "execution_count": 68,
   "id": "9044eaba",
   "metadata": {},
   "outputs": [
    {
     "name": "stderr",
     "output_type": "stream",
     "text": [
      "/Users/ashish/anaconda3/envs/cities/lib/python3.7/site-packages/ipykernel_launcher.py:97: RuntimeWarning: divide by zero encountered in true_divide\n",
      "/Users/ashish/anaconda3/envs/cities/lib/python3.7/site-packages/ipykernel_launcher.py:97: RuntimeWarning: invalid value encountered in true_divide\n"
     ]
    },
    {
     "name": "stdout",
     "output_type": "stream",
     "text": [
      "cluster 1\n",
      "ll BDI -89.33081305265569 , ll normal -128.7991917889645 , ll laplace -86.1238148490946\n",
      "tp, bd= 0.012762953546702642 0.8006774838312702\n",
      "cluster 2\n",
      "ll BDI 103.09857973034929 , ll normal 76.63279101304218 , ll laplace 106.91169294694441\n",
      "tp, bd= 0.0060625697828357965 1.2278571845693862\n"
     ]
    },
    {
     "name": "stderr",
     "output_type": "stream",
     "text": [
      "/Users/ashish/anaconda3/envs/cities/lib/python3.7/site-packages/ipykernel_launcher.py:97: RuntimeWarning: divide by zero encountered in true_divide\n"
     ]
    },
    {
     "name": "stdout",
     "output_type": "stream",
     "text": [
      "cluster 3\n",
      "ll BDI 67.39596554343784 , ll normal -26.65955941215525 , ll laplace 53.042905601983435\n",
      "tp, bd= 0.004708126081734841 0.9945006307769695\n",
      "cluster 4\n",
      "ll BDI 72.24197785659562 , ll normal 27.724193863470802 , ll laplace 67.43132224955399\n",
      "tp, bd= 0.006052209650657484 1.132951916369248\n"
     ]
    },
    {
     "data": {
      "image/png": "[encoded data removed]",
      "text/plain": [
       "<Figure size 576x576 with 4 Axes>"
      ]
     },
     "metadata": {},
     "output_type": "display_data"
    }
   ],
   "source": [
    "neutral_inst = shared_func.azaele_neutral_logG_distribution()\n",
    "# weibull_inst = shared_func.symmetric_weibull_gen() \n",
    "dest_path='/Users/ashish/Dropbox/research/James-research/BDI manuscript/figures/fig1_growth_distribution/'\n",
    "n_bins=21\n",
    "\n",
    "fig = plt.figure(figsize=(8, 8))\n",
    "ax1 = fig.add_subplot(2,2,1)\n",
    "ax2 = fig.add_subplot(2,2,2)\n",
    "ax3 = fig.add_subplot(2,2,3)\n",
    "ax4 = fig.add_subplot(2,2,4)\n",
    "\n",
    "\n",
    "ax_list=[ax1,ax2,ax3,ax4]\n",
    "\n",
    "for clust_id in range(1,n_BCI_clusts+1):  \n",
    "    ax=ax_list[clust_id-1]\n",
    "    BCI_logG_clusti=get_BCI_clust_logG(df_counts,clust_id)   \n",
    "    neut_tp, neut_bd, loc_neut, scale_neut = neutral_inst.fit(\n",
    "            BCI_logG_clusti,10., 1., floc=0,fscale=1.)\n",
    "    \n",
    "    ll_BDI=np.sum(neutral_inst.logpdf(BCI_logG_clusti,  neut_tp, neut_bd, loc=0,scale=1.))\n",
    "    mu, sigma=scipy.stats.norm.fit(BCI_logG_clusti,floc=0)\n",
    "    ll_normal=np.sum(scipy.stats.norm.logpdf(BCI_logG_clusti,loc=mu,scale=sigma))\n",
    "    loc_laplace, scale_laplace=scipy.stats.laplace.fit(BCI_logG_clusti,floc=0)\n",
    "    ll_laplace=np.sum(scipy.stats.laplace.logpdf(BCI_logG_clusti,loc=loc_laplace,scale=scale_laplace))\n",
    "    histogram, bins = np.histogram(BCI_logG_clusti, bins=n_bins, density=True)\n",
    "    bin_centers = 0.5*(bins[1:] + bins[:-1])\n",
    "    ax.hist(BCI_logG_clusti, bins=n_bins, density=True,facecolor='g',edgecolor='k')\n",
    "    ax.plot(bin_centers, scipy.stats.norm.pdf(bin_centers,loc=mu,scale=sigma),\n",
    "            'c-',lw=3,label='normal') \n",
    "    ax.plot(bin_centers, scipy.stats.laplace.pdf(bin_centers,loc=loc_laplace,scale=scale_laplace),\n",
    "            'y-',lw=3,label='Laplace') \n",
    "    ax.plot(bin_centers, neutral_inst.pdf(bin_centers, neut_tp, neut_bd, loc=loc_neut,scale= scale_neut),\n",
    "             'r-',lw=3,label='BDI model') \n",
    "\n",
    "    ax.set_ylim(1e-2,20) \n",
    "    \n",
    "    print ('cluster', clust_id)\n",
    "    print('ll BDI', ll_BDI,', ll normal', ll_normal,', ll laplace', ll_laplace)\n",
    "    print('tp, bd=', neut_tp,neut_bd)\n",
    "for ax in ax_list:\n",
    "    ax.set_xlabel(r'logarithmic fold-change')\n",
    "    ax.set_yscale('log')\n",
    "    ax.set_ylabel(r'probability')\n",
    "#     ax.set_ylim(5e-3,3.5) /\n",
    "ax1.legend(loc='best')\n",
    "\n",
    "# ax1.set_title('microbiome')\n",
    "# \n",
    "# ax3.set_title('urban employment')\n",
    "# ax.set_title('tropical forest')\n",
    "# plt.tick_params(axis='both', which='both') \n",
    "fig.patch.set_facecolor('white')  \n",
    "fig.tight_layout()\n",
    "\n",
    "# plt.savefig(dest_path+'BCI.png')\n",
    "plt.show()"
   ]
  },
  {
   "cell_type": "markdown",
   "id": "3f4b7eb4",
   "metadata": {},
   "source": [
    "# fit AFD of species groups"
   ]
  },
  {
   "cell_type": "code",
   "execution_count": 57,
   "id": "1ca8d392",
   "metadata": {},
   "outputs": [
    {
     "data": {
      "text/plain": [
       "['Y1990', 'Y1995', 'Y2000', 'Y2005']"
      ]
     },
     "execution_count": 57,
     "metadata": {},
     "output_type": "execute_result"
    }
   ],
   "source": [
    "BCI_year_list"
   ]
  },
  {
   "cell_type": "code",
   "execution_count": 75,
   "id": "db674b0b",
   "metadata": {},
   "outputs": [
    {
     "name": "stdout",
     "output_type": "stream",
     "text": [
      "fit vals= 0.2478811653855468 2635.9033917782217\n",
      "fit vals= 0.34524596301014454 2860.414812837794\n",
      "fit vals= 0.4785116256333881 922.8615906990148\n",
      "fit vals= 0.39678952979696863 2037.3441451705396\n"
     ]
    },
    {
     "data": {
      "image/png": "[encoded data removed]",
      "text/plain": [
       "<Figure size 576x576 with 4 Axes>"
      ]
     },
     "metadata": {},
     "output_type": "display_data"
    }
   ],
   "source": [
    "\n",
    "fig = plt.figure(figsize=(8, 8))\n",
    "ax1 = fig.add_subplot(2,2,1)\n",
    "ax2 = fig.add_subplot(2,2,2)\n",
    "ax3 = fig.add_subplot(2,2,3)\n",
    "ax4 = fig.add_subplot(2,2,4)\n",
    "\n",
    "\n",
    "ax_list=[ax1,ax2,ax3,ax4]\n",
    "\n",
    "for clust_id in range(1,n_BCI_clusts+1):  \n",
    "    ax=ax_list[clust_id-1]\n",
    "    \n",
    "    clust_popn_1995=df_counts[df_counts['height_cluster']==clust_id]['Y2005']\n",
    "    clust_popn_1995=clust_popn_1995[clust_popn_1995>0] \n",
    "    a_gamma,dummy_loc_gamma, scale_gamma=scipy.stats.gamma.fit(\n",
    "                            clust_popn_1995, 1.,floc=0.,scale=2 )\n",
    "    \n",
    "    ll_BDI=np.sum(scipy.stats.gamma.logpdf(clust_popn_1995,  a_gamma, loc=dummy_loc_gamma,\n",
    "                                           scale=scale_gamma))\n",
    "    \n",
    "    bins_abu=np.logspace(np.log10(1),np.log10(8000),20 )\n",
    "#     bins_abu=20\n",
    "    histogram, bins = np.histogram(clust_popn_1995, bins=bins_abu, density=True)\n",
    "    bin_centers = 0.5*(bins[1:] + bins[:-1])\n",
    "    ax.hist(clust_popn_1995,density=True, bins=bins_abu, cumulative=True)\n",
    "#     ax.plot(bin_centers, scipy.stats.gamma.cdf(bin_centers,\n",
    "#                                 a_gamma,loc=0.,scale=scale_gamma),'r-',lw=3,label='BDI')\n",
    "    \n",
    "    ax.plot(bins_abu, scipy.stats.gamma.cdf(bins_abu,\n",
    "                                a_gamma,loc=0.,scale=scale_gamma),'r-',lw=3,label='BDI')\n",
    "    \n",
    "    ax.set_xscale('log')\n",
    "    ax.set_xlabel('abundance')\n",
    "    ax.set_title('species cluster '+str(clust_id))\n",
    "    print('fit vals=', a_gamma, scale_gamma)\n",
    "    \n",
    "\n",
    "ax1.legend(loc='best')\n",
    "\n",
    "fig.patch.set_facecolor('white')  \n",
    "fig.tight_layout()\n",
    "\n",
    "\n",
    "plt.show()"
   ]
  },
  {
   "cell_type": "code",
   "execution_count": null,
   "id": "b226184a",
   "metadata": {},
   "outputs": [],
   "source": []
  },
  {
   "cell_type": "code",
   "execution_count": null,
   "id": "49fc3bf7",
   "metadata": {},
   "outputs": [],
   "source": []
  },
  {
   "cell_type": "code",
   "execution_count": 59,
   "id": "d72fd1de",
   "metadata": {},
   "outputs": [
    {
     "data": {
      "image/png": "[encoded data removed]",
      "text/plain": [
       "<Figure size 576x576 with 4 Axes>"
      ]
     },
     "metadata": {},
     "output_type": "display_data"
    }
   ],
   "source": [
    "\n",
    "fig = plt.figure(figsize=(8, 8))\n",
    "ax1 = fig.add_subplot(2,2,1)\n",
    "ax2 = fig.add_subplot(2,2,2)\n",
    "ax3 = fig.add_subplot(2,2,3)\n",
    "ax4 = fig.add_subplot(2,2,4)\n",
    "\n",
    "\n",
    "ax_list=[ax1,ax2,ax3,ax4]\n",
    "\n",
    "for clust_id in range(1,n_BCI_clusts+1):  \n",
    "    ax=ax_list[clust_id-1]\n",
    "    \n",
    "    popn_1995=df_counts[df_counts['height_cluster']==clust_id]['Y2005']\n",
    "    popn_1995=popn_1995[popn_1995>0] \n",
    "    a_gamma,dummy_loc_gamma, scale_gamma=scipy.stats.gamma.fit(\n",
    "                            popn_1995, 1.,floc=0.,scale=2 )\n",
    "    \n",
    "    ll_BDI=np.sum(scipy.stats.gamma.logpdf(popn_1995,  a_gamma, loc=dummy_loc_gamma,\n",
    "                                           scale=scale_gamma))\n",
    "    \n",
    "    bins_abu=np.logspace(np.log10(1),np.log10(1200),20 )\n",
    "    histogram, bins = np.histogram(popn_1995, bins=bins_abu, density=True)\n",
    "    bin_centers = 0.5*(bins[1:] + bins[:-1])\n",
    "    ax.hist(popn_1995,density=True, bins=bins_abu)\n",
    "    ax.plot(bin_centers, scipy.stats.gamma.pdf(bin_centers,\n",
    "                                a_gamma,loc=0.,scale=scale_gamma),'r-',lw=3,label='BDI')\n",
    "    \n",
    "    ax.set_xscale('log')\n",
    "    ax1.set_xlabel('abundance')\n",
    "    \n",
    "    \n",
    "    \n",
    "#     mu, sigma=scipy.stats.norm.fit(BCI_logG_clusti,floc=0)\n",
    "#     ll_normal=np.sum(scipy.stats.norm.logpdf(BCI_logG_clusti,loc=mu,scale=sigma))\n",
    "#     loc_laplace, scale_laplace=scipy.stats.laplace.fit(BCI_logG_clusti,floc=0)\n",
    "#     ll_laplace=np.sum(scipy.stats.laplace.logpdf(BCI_logG_clusti,loc=loc_laplace,scale=scale_laplace))\n",
    "#     histogram, bins = np.histogram(BCI_logG_clusti, bins=n_bins, density=True)\n",
    "#     bin_centers = 0.5*(bins[1:] + bins[:-1])\n",
    "#     ax.hist(BCI_logG_clusti, bins=n_bins, density=True,facecolor='g',edgecolor='k')\n",
    "#     ax.plot(bin_centers, scipy.stats.norm.pdf(bin_centers,loc=mu,scale=sigma),\n",
    "#             'c-',lw=3,label='normal') \n",
    "#     ax.plot(bin_centers, scipy.stats.laplace.pdf(bin_centers,loc=loc_laplace,scale=scale_laplace),\n",
    "#             'y-',lw=3,label='Laplace') \n",
    "#     ax.plot(bin_centers, neutral_inst.pdf(bin_centers, neut_tp, neut_bd, loc=loc_neut,scale= scale_neut),\n",
    "#              'r-',lw=3,label='BDI model') \n",
    "\n",
    "#     ax.set_ylim(1e-2,20) \n",
    "    \n",
    "#     print ('cluster', clust_id)\n",
    "#     print('ll BDI', ll_BDI,', ll normal', ll_normal,', ll laplace', ll_laplace)\n",
    "\n",
    "# for ax in ax_list:\n",
    "#     ax.set_xlabel(r'log abundance')\n",
    "\n",
    "#     ax.set_ylabel(r'probability')\n",
    "#     ax.set_ylim(5e-3,3.5) /\n",
    "ax1.legend(loc='best')\n",
    "\n",
    "# ax1.set_title('microbiome')\n",
    "# \n",
    "# ax3.set_title('urban employment')\n",
    "# ax.set_title('tropical forest')\n",
    "# plt.tick_params(axis='both', which='both') \n",
    "fig.patch.set_facecolor('white')  \n",
    "fig.tight_layout()\n",
    "\n",
    "# plt.savefig(dest_path+'BCI.png')\n",
    "plt.show()"
   ]
  },
  {
   "cell_type": "markdown",
   "id": "a2713431",
   "metadata": {},
   "source": [
    "# Taylor's law"
   ]
  },
  {
   "cell_type": "code",
   "execution_count": 3,
   "id": "2d6a4f59",
   "metadata": {},
   "outputs": [
    {
     "data": {
      "text/plain": [
       "320"
      ]
     },
     "execution_count": 3,
     "metadata": {},
     "output_type": "execute_result"
    }
   ],
   "source": [
    "len(popn)"
   ]
  },
  {
   "cell_type": "code",
   "execution_count": 19,
   "id": "3a6c4907",
   "metadata": {},
   "outputs": [
    {
     "data": {
      "image/png": "[encoded data removed]",
      "text/plain": [
       "<Figure size 360x360 with 1 Axes>"
      ]
     },
     "metadata": {},
     "output_type": "display_data"
    }
   ],
   "source": [
    "mean_list=[]\n",
    "var_list=[]\n",
    "for sp in range(len(popn)):\n",
    "    if np.mean(popn[sp])>0 and np.var(popn[sp])>0: ## avoid zero abundance or variance species\n",
    "        mean_list.append(np.mean(popn[sp]))\n",
    "        var_list.append(np.var(popn[sp]))\n",
    "        \n",
    "        \n",
    "        \n",
    "fig = plt.figure(figsize=(5,5))\n",
    "ax1 = fig.add_subplot()\n",
    "\n",
    "\n",
    "# ax1.plot(mean_list, var_list,'o')\n",
    "# ax1.set_xlabel('mean abundance')\n",
    "# ax1.set_ylabel('var abundance')\n",
    "xdummy=np.linspace(1e0, 1e4,5)   \n",
    "ax1.loglog(mean_list, var_list,'o')\n",
    "fit_result = scipy.stats.linregress(np.log10(mean_list), np.log10(var_list))\n",
    "ax1.plot(xdummy,2*xdummy**2, 'k--', lw=2, label=r'$y \\sim x^2$')\n",
    "\n",
    "ax1.plot(xdummy,(10.**fit_result.intercept)*(xdummy**fit_result.slope), 'k-',\n",
    "         lw=3, label=r'$y \\sim x$^'+ '{:.2f}'.format(fit_result.slope))\n",
    "\n",
    "ax1.legend(loc='best')\n",
    "ax1.set_xlabel('mean abundance')\n",
    "ax1.set_ylabel('var abundance')\n",
    "\n",
    "fig.tight_layout()\n",
    "\n",
    "\n",
    "             \n"
   ]
  },
  {
   "cell_type": "code",
   "execution_count": null,
   "id": "a5f2cb89",
   "metadata": {},
   "outputs": [],
   "source": []
  }
 ],
 "metadata": {
  "kernelspec": {
   "display_name": "Python 3 (ipykernel)",
   "language": "python",
   "name": "python3"
  },
  "language_info": {
   "codemirror_mode": {
    "name": "ipython",
    "version": 3
   },
   "file_extension": ".py",
   "mimetype": "text/x-python",
   "name": "python",
   "nbconvert_exporter": "python",
   "pygments_lexer": "ipython3",
   "version": "3.7.3"
  },
  "toc": {
   "base_numbering": 1,
   "nav_menu": {},
   "number_sections": true,
   "sideBar": true,
   "skip_h1_title": false,
   "title_cell": "Table of Contents",
   "title_sidebar": "Contents",
   "toc_cell": false,
   "toc_position": {
    "height": "calc(100% - 180px)",
    "left": "10px",
    "top": "150px",
    "width": "299.815px"
   },
   "toc_section_display": true,
   "toc_window_display": true
  }
 },
 "nbformat": 4,
 "nbformat_minor": 5
}
