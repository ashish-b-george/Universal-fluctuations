{
 "cells": [
  {
   "cell_type": "code",
   "execution_count": 1,
   "id": "6cba5638",
   "metadata": {
    "code_folding": [
     44
    ]
   },
   "outputs": [
    {
     "name": "stderr",
     "output_type": "stream",
     "text": [
      "In /Users/ashish/anaconda3/envs/cities/lib/python3.7/site-packages/matplotlib/mpl-data/stylelib/_classic_test.mplstyle: \n",
      "The text.latex.preview rcparam was deprecated in Matplotlib 3.3 and will be removed two minor releases later.\n",
      "In /Users/ashish/anaconda3/envs/cities/lib/python3.7/site-packages/matplotlib/mpl-data/stylelib/_classic_test.mplstyle: \n",
      "The mathtext.fallback_to_cm rcparam was deprecated in Matplotlib 3.3 and will be removed two minor releases later.\n",
      "In /Users/ashish/anaconda3/envs/cities/lib/python3.7/site-packages/matplotlib/mpl-data/stylelib/_classic_test.mplstyle: Support for setting the 'mathtext.fallback_to_cm' rcParam is deprecated since 3.3 and will be removed two minor releases later; use 'mathtext.fallback : 'cm' instead.\n",
      "In /Users/ashish/anaconda3/envs/cities/lib/python3.7/site-packages/matplotlib/mpl-data/stylelib/_classic_test.mplstyle: \n",
      "The validate_bool_maybe_none function was deprecated in Matplotlib 3.3 and will be removed two minor releases later.\n",
      "In /Users/ashish/anaconda3/envs/cities/lib/python3.7/site-packages/matplotlib/mpl-data/stylelib/_classic_test.mplstyle: \n",
      "The savefig.jpeg_quality rcparam was deprecated in Matplotlib 3.3 and will be removed two minor releases later.\n",
      "In /Users/ashish/anaconda3/envs/cities/lib/python3.7/site-packages/matplotlib/mpl-data/stylelib/_classic_test.mplstyle: \n",
      "The keymap.all_axes rcparam was deprecated in Matplotlib 3.3 and will be removed two minor releases later.\n",
      "In /Users/ashish/anaconda3/envs/cities/lib/python3.7/site-packages/matplotlib/mpl-data/stylelib/_classic_test.mplstyle: \n",
      "The animation.avconv_path rcparam was deprecated in Matplotlib 3.3 and will be removed two minor releases later.\n",
      "In /Users/ashish/anaconda3/envs/cities/lib/python3.7/site-packages/matplotlib/mpl-data/stylelib/_classic_test.mplstyle: \n",
      "The animation.avconv_args rcparam was deprecated in Matplotlib 3.3 and will be removed two minor releases later.\n"
     ]
    }
   ],
   "source": [
    "import numpy as np\n",
    "import pandas as pd\n",
    "import matplotlib as mpl\n",
    "import matplotlib.pyplot as plt\n",
    "import seaborn as sns\n",
    "import os\n",
    "from sys import exit\n",
    "import pandas as pd\n",
    "import glob\n",
    "import pickle\n",
    "from textwrap import wrap\n",
    "import time\n",
    "import math\n",
    "import scipy\n",
    "import itertools\n",
    "from scipy import signal## because scipy doesn't always load its submodules for some reason\n",
    "from scipy import stats\n",
    "import scipy.integrate as integrate\n",
    "from sklearn.metrics.cluster import adjusted_rand_score\n",
    "from copy import deepcopy\n",
    "from sklearn.preprocessing import StandardScaler\n",
    "from sklearn.decomposition import PCA\n",
    "from sklearn import linear_model\n",
    "from sklearn.metrics import mean_squared_error, r2_score, pairwise_distances\n",
    "from scipy.optimize import fsolve\n",
    "import scipy.optimize\n",
    "from scipy.stats import levy_stable\n",
    "import sys\n",
    "sys.path.append('/Users/ashish/Dropbox/research/James-research/city establishment data/')\n",
    "\n",
    "import powerlaw\n",
    "import shared_analysis_functions as shared_func\n",
    "import importlib\n",
    "importlib.reload(shared_func)\n",
    "from sklearn.metrics import pairwise_distances\n",
    "from scipy.spatial import distance as scipy_spatial_distance\n",
    "\n",
    "import warnings\n",
    "fit_params_path='/Users/ashish/Box/research/James/BLS data/processed_BLS_data/fit_parameters/'\n",
    "# \n",
    "fontSize=12\n",
    "fontSizeSmall=10\n",
    "labelSize=8\n",
    "sns.set(rc= {'figure.facecolor':'white'}) #'axes.facecolor':'cornflowerblue',\n",
    "\n",
    "def create_color_list(scheme_name='sns_tab10',num_colors=6): \n",
    "    #https://matplotlib.org/3.1.0/gallery/color/named_colors.html\n",
    "    #https://seaborn.pydata.org/tutorial/color_palettes.html\n",
    "    if scheme_name.lower()=='tableau':\n",
    "        color_list=list(mcolors.TABLEAU_COLORS.values())## only had 10 colors\n",
    "    elif scheme_name.lower()=='css':\n",
    "        color_list=list(mcolors.CSS4_COLORS.values())\n",
    "    elif scheme_name.lower()=='base':\n",
    "        color_list=list(mcolors.BASE_COLORS.values())\n",
    "    elif scheme_name.lower()=='sns_tab10':\n",
    "        color_list=list(sns.color_palette(palette='tab10',n_colors=num_colors))\n",
    "    elif scheme_name.lower()=='sns_deep':\n",
    "        color_list=list(sns.color_palette(palette='deep',n_colors=num_colors))\n",
    "    elif scheme_name.lower()=='sns_muted':\n",
    "        color_list=list(sns.color_palette(palette='muted',n_colors=num_colors))\n",
    "    elif scheme_name.lower()=='sns_colorblind':\n",
    "        color_list=list(sns.color_palette(palette='colorblind',n_colors=num_colors))\n",
    "    elif scheme_name.lower()=='sns_spectral':\n",
    "        color_list=list(sns.color_palette(palette='Spectral',n_colors=num_colors))\n",
    "    else:\n",
    "        print ('scheme not implemented')\n",
    "    if 'sns' not in scheme_name.lower():\n",
    "        color_list=[color for color in color_list if sum(mcolors.to_rgb(color))<2.5] ## remove white\n",
    "        mcolors.to_rgb(color_list[0])\n",
    "    return  color_list\n",
    "color_list_def=create_color_list()\n",
    "\n"
   ]
  },
  {
   "cell_type": "markdown",
   "id": "2ad2ec27",
   "metadata": {},
   "source": [
    "# define the time dependent pdf"
   ]
  },
  {
   "cell_type": "code",
   "execution_count": null,
   "id": "9baeac93",
   "metadata": {
    "code_folding": [
     0
    ]
   },
   "outputs": [],
   "source": [
    "##mathematica definition\n",
    "pdfXT[x_, t_, x0_, k_, tau_, Dtau_] := \n",
    " PDF[GammaDistribution[k, Dtau], x]*\n",
    "  Gamma[k]  * (((1/Dtau)^2    x0 x  Exp[-t/tau])^(1/2 - k/2) )/ (1 - \n",
    "     Exp[-t/tau])   *\n",
    "  Exp[-( (1/Dtau) (x0 + x) Exp[-t/tau] )/(1 - Exp[-t/tau])]  * \n",
    "  BesselI[\n",
    "   k - 1, ( (2/Dtau) Sqrt[x0 x  Exp[-t/tau]] )/(1 - Exp[-t/tau])]  "
   ]
  },
  {
   "cell_type": "code",
   "execution_count": 6,
   "id": "c7dc54a7",
   "metadata": {
    "code_folding": []
   },
   "outputs": [],
   "source": [
    "def time_dependent_pdf(x,t,x0,k,tau,Dtau):    \n",
    "    return stats.gamma.pdf(x,k,scale=Dtau) *scipy.special.gamma(k)/ (1-np.exp(-t/tau))*np.power(\n",
    "        np.square(1/Dtau) * x0 * x *np.exp(-t/tau) ,1./2 - k/2 )*np.exp(\n",
    "        -( (1/Dtau)* (x0 + x)* np.exp(-t/tau) )/(1 - np.exp(-t/tau)) )*scipy.special.iv(\n",
    "        k-1., ( (2/Dtau)*np.sqrt(x0*x*np.exp(-t/tau)) )/(1 - np.exp(-t/tau)))   "
   ]
  },
  {
   "cell_type": "markdown",
   "id": "9a0f2224",
   "metadata": {},
   "source": [
    "## test convergence to steady state gamma distribution"
   ]
  },
  {
   "cell_type": "code",
   "execution_count": 15,
   "id": "b17d71b9",
   "metadata": {},
   "outputs": [
    {
     "name": "stderr",
     "output_type": "stream",
     "text": [
      "/Users/ashish/anaconda3/envs/cities/lib/python3.7/site-packages/ipykernel_launcher.py:4: RuntimeWarning: divide by zero encountered in power\n",
      "  after removing the cwd from sys.path.\n",
      "/Users/ashish/anaconda3/envs/cities/lib/python3.7/site-packages/ipykernel_launcher.py:4: RuntimeWarning: invalid value encountered in multiply\n",
      "  after removing the cwd from sys.path.\n",
      "/Users/ashish/anaconda3/envs/cities/lib/python3.7/site-packages/ipykernel_launcher.py:4: RuntimeWarning: divide by zero encountered in power\n",
      "  after removing the cwd from sys.path.\n",
      "/Users/ashish/anaconda3/envs/cities/lib/python3.7/site-packages/ipykernel_launcher.py:4: RuntimeWarning: invalid value encountered in multiply\n",
      "  after removing the cwd from sys.path.\n"
     ]
    },
    {
     "data": {
      "image/png": "[encoded data removed]",
      "text/plain": [
       "<Figure size 720x360 with 1 Axes>"
      ]
     },
     "metadata": {},
     "output_type": "display_data"
    }
   ],
   "source": [
    "\n",
    "\n",
    "fig = plt.figure(figsize=(10, 5))\n",
    "ax1 = fig.add_subplot(1,2,1)\n",
    "# ax2 = fig.add_subplot(1,2,2)\n",
    "# n_histbins, histbin_centers, mu,sigma,b_laplace,weibull_k,weibull_lambda,guess_params=get_plot_params(\n",
    "#     log_N1,n_histbins=40)\n",
    "# ax1.hist(log_N1,bins=n_histbins,density=True)\n",
    "\n",
    "\n",
    "x0=2\n",
    "t1=1\n",
    "t2=10\n",
    "tau=1\n",
    "k=2\n",
    "Dtau=10\n",
    "xvalues=np.arange(0,100)\n",
    "ax1.plot(xvalues,time_dependent_pdf(xvalues,t1,x0,k,tau,Dtau),\n",
    "         'g-',label='p(x,t='+str(t1)+')' )\n",
    "\n",
    "ax1.plot(xvalues,time_dependent_pdf(xvalues,t2,x0,k,tau,Dtau),\n",
    "         'b-',label='p(x,t='+str(t2)+')' )\n",
    "ax1.plot(xvalues,stats.gamma.pdf(xvalues,k,scale=Dtau),\n",
    "         'k--',label='p_SS(x)')\n",
    "ax1.legend(loc='best')\n",
    "\n",
    "plt.tight_layout()\n",
    "plt.show()"
   ]
  },
  {
   "cell_type": "code",
   "execution_count": null,
   "id": "6752e480",
   "metadata": {},
   "outputs": [],
   "source": []
  },
  {
   "cell_type": "markdown",
   "id": "1802df22",
   "metadata": {},
   "source": [
    "##### test numerical integration"
   ]
  },
  {
   "cell_type": "code",
   "execution_count": 19,
   "id": "77382a45",
   "metadata": {},
   "outputs": [
    {
     "name": "stdout",
     "output_type": "stream",
     "text": [
      "integrate between 0 and 10\n",
      "0.4400997907286801\n",
      "integrate between 0 and 1000\n",
      "1.0\n"
     ]
    }
   ],
   "source": [
    "x0=2\n",
    "t1=1\n",
    "t2=10\n",
    "tau=1\n",
    "k=2\n",
    "Dtau=10\n",
    "print('integrate between 0 and 10')\n",
    "print(integrate.quad(lambda x: time_dependent_pdf(x,t1,x0,k,tau,Dtau), 0, 10)[0])\n",
    "print ('integrate between 0 and 1000')\n",
    "print(integrate.quad(lambda x: time_dependent_pdf(x,t1,x0,k,tau,Dtau), 0, 1000)[0])"
   ]
  },
  {
   "cell_type": "markdown",
   "id": "1898c165",
   "metadata": {},
   "source": [
    "## compute expected MSD\n",
    "But this is the expected exponent if just computed cross-sectionally for one time point!"
   ]
  },
  {
   "cell_type": "code",
   "execution_count": 43,
   "id": "bb2157d7",
   "metadata": {},
   "outputs": [
    {
     "name": "stderr",
     "output_type": "stream",
     "text": [
      "/Users/ashish/anaconda3/envs/cities/lib/python3.7/site-packages/ipykernel_launcher.py:5: RuntimeWarning: invalid value encountered in double_scalars\n",
      "  \"\"\"\n",
      "/Users/ashish/anaconda3/envs/cities/lib/python3.7/site-packages/ipykernel_launcher.py:17: IntegrationWarning: The maximum number of subdivisions (50) has been achieved.\n",
      "  If increasing the limit yields no improvement it is advised to analyze \n",
      "  the integrand in order to determine the difficulties.  If the position of a \n",
      "  local difficulty can be determined (singularity, discontinuity) one will \n",
      "  probably gain from splitting up the interval and calling the integrator \n",
      "  on the subranges.  Perhaps a special-purpose integrator should be used.\n",
      "/Users/ashish/anaconda3/envs/cities/lib/python3.7/site-packages/ipykernel_launcher.py:17: IntegrationWarning: The occurrence of roundoff error is detected, which prevents \n",
      "  the requested tolerance from being achieved.  The error may be \n",
      "  underestimated.\n"
     ]
    },
    {
     "data": {
      "image/png": "[encoded data removed]",
      "text/plain": [
       "<Figure size 720x360 with 1 Axes>"
      ]
     },
     "metadata": {},
     "output_type": "display_data"
    }
   ],
   "source": [
    "# x0=2\n",
    "t1=.1\n",
    "t2=1\n",
    "t3=10\n",
    "tau=1\n",
    "k=2\n",
    "Dtau=10\n",
    "\n",
    "\n",
    "# x0values=np.arange(5,100)\n",
    "x0values=np.logspace(np.log10(5),3,100)\n",
    "MSD_list_t1=[]\n",
    "MSD_list_t2=[]\n",
    "MSD_list_t3=[]\n",
    "for x0 in x0values:\n",
    "    result=integrate.quad(lambda x: np.square(x-x0)*time_dependent_pdf(x,t1,x0,k,tau,Dtau), \n",
    "                          0, 2000)\n",
    "    MSD_list_t1.append(result[0])\n",
    "    result=integrate.quad(lambda x: np.square(x-x0)*time_dependent_pdf(x,t2,x0,k,tau,Dtau), \n",
    "                          0, 5000)\n",
    "    MSD_list_t2.append(result[0])\n",
    "    \n",
    "    result=integrate.quad(lambda x: np.square(x-x0)*time_dependent_pdf(x,t3,x0,k,tau,Dtau), \n",
    "                          0, 5000)\n",
    "    MSD_list_t3.append(result[0])\n",
    "    \n",
    "    \n",
    "    \n",
    "\n",
    "fig = plt.figure(figsize=(10, 5))\n",
    "ax1 = fig.add_subplot(1,2,1)\n",
    "\n",
    "\n",
    "ax1.plot(x0values,MSD_list_t1,'o',label='t/tau='+str(t1) )\n",
    "ax1.plot(x0values,MSD_list_t2,'o',label='t/tau='+str(t2) )\n",
    "ax1.plot(x0values,MSD_list_t3,'o',label='t/tau='+str(t3) )\n",
    "\n",
    "ax1.plot(x0values,np.square(x0values),'r-',label=r'exponent=2' )\n",
    "ax1.plot(x0values,10*x0values,'k-',label=r'exponent=1' )\n",
    "# ax1.plot(xvalues,time_dependent_pdf(xvalues,t2,x0,k,tau,Dtau),\n",
    "#          'b-',label='t/tau='+str(t2) )\n",
    "\n",
    "\n",
    "ax1.legend(loc='best')\n",
    "ax1.set_yscale('log')\n",
    "ax1.set_xscale('log')\n",
    "ax1.set_xlabel(r'$x_0$')\n",
    "ax1.set_ylabel(r'MSD $\\langle (x(t)-x_0)^2\\rangle$')\n",
    "plt.tight_layout()\n",
    "plt.show()"
   ]
  },
  {
   "cell_type": "code",
   "execution_count": 25,
   "id": "0edf87d3",
   "metadata": {},
   "outputs": [
    {
     "data": {
      "text/plain": [
       "array([ 1,  2,  3,  4,  5,  6,  7,  8,  9, 10, 11, 12, 13, 14, 15, 16, 17,\n",
       "       18, 19, 20, 21, 22, 23, 24, 25, 26, 27, 28, 29, 30, 31, 32, 33, 34,\n",
       "       35, 36, 37, 38, 39, 40, 41, 42, 43, 44, 45, 46, 47, 48, 49, 50, 51,\n",
       "       52, 53, 54, 55, 56, 57, 58, 59, 60, 61, 62, 63, 64, 65, 66, 67, 68,\n",
       "       69, 70, 71, 72, 73, 74, 75, 76, 77, 78, 79, 80, 81, 82, 83, 84, 85,\n",
       "       86, 87, 88, 89, 90, 91, 92, 93, 94, 95, 96, 97, 98, 99])"
      ]
     },
     "execution_count": 25,
     "metadata": {},
     "output_type": "execute_result"
    }
   ],
   "source": [
    "np.arange(1,100)"
   ]
  },
  {
   "cell_type": "code",
   "execution_count": 34,
   "id": "5666761f",
   "metadata": {},
   "outputs": [
    {
     "data": {
      "text/plain": [
       "array([  5.        ,   5.21389435,   5.43693885,   5.66952495,\n",
       "         5.91206082,   6.1649721 ,   6.42870263,   6.70371526,\n",
       "         6.99049262,   7.28953799,   7.60137619,   7.92655447,\n",
       "         8.26564351,   8.61923839,   8.98795967,   9.37245442,\n",
       "         9.77339742,  10.19149232,  10.62747284,  11.08210411,\n",
       "        11.55618399,  12.05054448,  12.56605315,  13.1036147 ,\n",
       "        13.66417252,  14.24871037,  14.85825409,  15.4938734 ,\n",
       "        16.15668379,  16.84784846,  17.56858037,  18.32014437,\n",
       "        19.10385944,  19.92110095,  20.77330313,  21.66196155,\n",
       "        22.58863577,  23.55495207,  24.56260629,  25.61336682,\n",
       "        26.7090777 ,  27.85166185,  29.04312445,  30.28555648,\n",
       "        31.58113835,  32.93214374,  34.34094362,  35.81001037,\n",
       "        37.34192212,  38.93936734,  40.60514945,  42.34219184,\n",
       "        44.15354293,  46.04238158,  48.01202261,  50.06592266,\n",
       "        52.20768623,  54.44107202,  56.76999954,  59.19855594,\n",
       "        61.73100323,  64.37178576,  67.12553798,  69.99709261,\n",
       "        72.99148909,  76.11398248,  79.3700526 ,  82.76541372,\n",
       "        86.30602455,  89.9980987 ,  93.84811562,  97.86283191,\n",
       "       102.04929322, 106.41484661, 110.96715344, 115.71420281,\n",
       "       120.66432559, 125.82620902, 131.20891199, 136.82188091,\n",
       "       142.67496629, 148.77844005, 155.14301351, 161.77985623,\n",
       "       168.70061559, 175.9174372 , 183.44298628, 191.29046984,\n",
       "       199.47365988, 208.00691753, 216.9052183 , 226.18417832,\n",
       "       235.86008176, 245.94990941, 256.47136848, 267.44292367,\n",
       "       278.88382959, 290.81416452, 303.2548657 , 316.22776602])"
      ]
     },
     "execution_count": 34,
     "metadata": {},
     "output_type": "execute_result"
    }
   ],
   "source": [
    "np.logspace(np.log10(5),2.5,100)"
   ]
  },
  {
   "cell_type": "code",
   "execution_count": 46,
   "id": "6f8d070c",
   "metadata": {},
   "outputs": [
    {
     "name": "stderr",
     "output_type": "stream",
     "text": [
      "/Users/ashish/anaconda3/envs/cities/lib/python3.7/site-packages/ipykernel_launcher.py:5: RuntimeWarning: invalid value encountered in double_scalars\n",
      "  \"\"\"\n",
      "/Users/ashish/anaconda3/envs/cities/lib/python3.7/site-packages/ipykernel_launcher.py:17: IntegrationWarning: The occurrence of roundoff error is detected, which prevents \n",
      "  the requested tolerance from being achieved.  The error may be \n",
      "  underestimated.\n"
     ]
    },
    {
     "data": {
      "image/png": "[encoded data removed]",
      "text/plain": [
       "<Figure size 720x360 with 1 Axes>"
      ]
     },
     "metadata": {},
     "output_type": "display_data"
    }
   ],
   "source": [
    "# x0=2\n",
    "t1=.03\n",
    "t2=.1\n",
    "t3=1\n",
    "tau=1\n",
    "k=2\n",
    "Dtau=10\n",
    "\n",
    "\n",
    "# x0values=np.arange(5,100)\n",
    "x0values=np.logspace(np.log10(8),1.8,100)\n",
    "MSD_list_t1=[]\n",
    "MSD_list_t2=[]\n",
    "MSD_list_t3=[]\n",
    "for x0 in x0values:\n",
    "    result=integrate.quad(lambda x: np.square(x-x0)*time_dependent_pdf(x,t1,x0,k,tau,Dtau), \n",
    "                          0, 300)\n",
    "    MSD_list_t1.append(result[0])\n",
    "    result=integrate.quad(lambda x: np.square(x-x0)*time_dependent_pdf(x,t2,x0,k,tau,Dtau), \n",
    "                          0, 300)\n",
    "    MSD_list_t2.append(result[0])\n",
    "    \n",
    "    result=integrate.quad(lambda x: np.square(x-x0)*time_dependent_pdf(x,t3,x0,k,tau,Dtau), \n",
    "                          0, 300)\n",
    "    MSD_list_t3.append(result[0])\n",
    "    \n",
    "    \n",
    "    \n",
    "\n",
    "fig = plt.figure(figsize=(10, 5))\n",
    "ax1 = fig.add_subplot(1,2,1)\n",
    "\n",
    "\n",
    "ax1.plot(x0values,MSD_list_t1,'o',label='t/tau='+str(t1) )\n",
    "ax1.plot(x0values,MSD_list_t2,'o',label='t/tau='+str(t2) )\n",
    "ax1.plot(x0values,MSD_list_t3,'o',label='t/tau='+str(t3) )\n",
    "\n",
    "ax1.plot(x0values,np.square(x0values),'r-',label=r'exponent=2' )\n",
    "ax1.plot(x0values,10*x0values,'k-',label=r'exponent=1' )\n",
    "# ax1.plot(xvalues,time_dependent_pdf(xvalues,t2,x0,k,tau,Dtau),\n",
    "#          'b-',label='t/tau='+str(t2) )\n",
    "\n",
    "\n",
    "ax1.legend(loc='best')\n",
    "ax1.set_yscale('log')\n",
    "ax1.set_xscale('log')\n",
    "ax1.set_xlabel(r'$x_0$')\n",
    "ax1.set_ylabel(r'MSD $\\langle (x(t)-x_0)^2\\rangle$')\n",
    "plt.tight_layout()\n",
    "plt.show()"
   ]
  },
  {
   "cell_type": "code",
   "execution_count": null,
   "id": "32f18a42",
   "metadata": {},
   "outputs": [],
   "source": []
  },
  {
   "cell_type": "code",
   "execution_count": null,
   "id": "c526dd3d",
   "metadata": {},
   "outputs": [],
   "source": []
  },
  {
   "cell_type": "markdown",
   "id": "df086688",
   "metadata": {},
   "source": [
    "# simulate model explicitly"
   ]
  },
  {
   "cell_type": "code",
   "execution_count": 8,
   "id": "84558a3b",
   "metadata": {},
   "outputs": [],
   "source": [
    "\n",
    "\n",
    "\n",
    "def simulate_model(params):\n",
    "    m=params['m']\n",
    "    D=params['D']\n",
    "    tau=params['tau']\n",
    "\n",
    "    simulation_Time=params['simulation_Time']\n",
    "    x0=params['x0']  \n",
    "    x0=10\n",
    "    dt=params['dt']\n",
    "    Delta_t=params['Delta_t']\n",
    "    \n",
    "    x_time=[]\n",
    "    time_list=[]\n",
    "    ctr=0\n",
    "    save_interval=Delta_t/dt\n",
    "    x=x0\n",
    "    for t in np.arange(0,simulation_Time,dt):\n",
    "\n",
    "\n",
    "        if ctr % save_interval==0:\n",
    "            x_time.append(x)\n",
    "            time_list.append(t)\n",
    "\n",
    "        x=x+ dt*(m - x/tau + np.random.normal()*D*np.sqrt(x)  )\n",
    "\n",
    "\n",
    "\n",
    "        ctr+=1\n",
    "    \n",
    "    return  x_time,time_list \n",
    "    \n",
    "    "
   ]
  },
  {
   "cell_type": "code",
   "execution_count": 11,
   "id": "ba3eab6e",
   "metadata": {},
   "outputs": [],
   "source": [
    "params={}\n",
    "params['m']=1.\n",
    "params['D']=1\n",
    "params['tau']=1\n",
    "params['simulation_Time']=1000\n",
    "params['x0'] =10\n",
    "params['dt']=.01\n",
    "params['Delta_t']=1\n",
    "\n",
    "\n",
    "x_time,time_list =simulate_model(params)"
   ]
  },
  {
   "cell_type": "code",
   "execution_count": 12,
   "id": "e8e02c62",
   "metadata": {},
   "outputs": [
    {
     "data": {
      "text/plain": [
       "[<matplotlib.lines.Line2D at 0x7fb4801e18d0>]"
      ]
     },
     "execution_count": 12,
     "metadata": {},
     "output_type": "execute_result"
    },
    {
     "data": {
      "image/png": "[encoded data removed]",
      "text/plain": [
       "<Figure size 720x360 with 1 Axes>"
      ]
     },
     "metadata": {},
     "output_type": "display_data"
    }
   ],
   "source": [
    "fig = plt.figure(figsize=(10,5))\n",
    "ax1 = fig.add_subplot(1,2,1)\n",
    "ax1.plot(np.mean(x_time), np.var(x_time))\n"
   ]
  },
  {
   "cell_type": "code",
   "execution_count": 13,
   "id": "c9873811",
   "metadata": {},
   "outputs": [
    {
     "data": {
      "text/plain": [
       "1.0198307625639822"
      ]
     },
     "execution_count": 13,
     "metadata": {},
     "output_type": "execute_result"
    }
   ],
   "source": [
    "np.mean(x_time)"
   ]
  },
  {
   "cell_type": "code",
   "execution_count": null,
   "id": "7a1e1ce2",
   "metadata": {},
   "outputs": [],
   "source": []
  }
 ],
 "metadata": {
  "kernelspec": {
   "display_name": "Python 3 (ipykernel)",
   "language": "python",
   "name": "python3"
  },
  "language_info": {
   "codemirror_mode": {
    "name": "ipython",
    "version": 3
   },
   "file_extension": ".py",
   "mimetype": "text/x-python",
   "name": "python",
   "nbconvert_exporter": "python",
   "pygments_lexer": "ipython3",
   "version": "3.7.3"
  },
  "toc": {
   "base_numbering": 1,
   "nav_menu": {},
   "number_sections": true,
   "sideBar": true,
   "skip_h1_title": false,
   "title_cell": "Table of Contents",
   "title_sidebar": "Contents",
   "toc_cell": false,
   "toc_position": {},
   "toc_section_display": true,
   "toc_window_display": true
  }
 },
 "nbformat": 4,
 "nbformat_minor": 5
}
